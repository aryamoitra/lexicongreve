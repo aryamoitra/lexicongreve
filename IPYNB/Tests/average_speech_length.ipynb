{
 "cells": [
  {
   "cell_type": "code",
   "execution_count": 8,
   "id": "d8b44667-6fb6-4545-8b39-ed29d99e4bb1",
   "metadata": {},
   "outputs": [],
   "source": [
    "import json\n",
    "from nltk.tokenize import TweetTokenizer\n",
    "import plotly.graph_objects as go\n",
    "from statistics import mean\n",
    "from typing import List, Dict"
   ]
  },
  {
   "cell_type": "code",
   "execution_count": 9,
   "id": "affbe922-55bf-46e8-8163-884bc97c9c43",
   "metadata": {},
   "outputs": [],
   "source": [
    "with open(\"../../JSON/the_old_bachelor.json\", \"r\") as tob_file:\n",
    "    tob = json.load(tob_file)\n",
    "with open(\"../../JSON/the_double_dealer.json\", \"r\") as tdd_file:\n",
    "    tdd = json.load(tdd_file)\n",
    "with open(\"../../JSON/love_for_love.json\", \"r\") as lfl_file:\n",
    "    lfl = json.load(lfl_file)\n",
    "with open(\"../../JSON/the_way_of_the_world.json\", \"r\") as twotw_file:\n",
    "    twotw = json.load(twotw_file)"
   ]
  },
  {
   "cell_type": "code",
   "execution_count": 10,
   "id": "4be17ba3-7745-44ac-afe0-fdfcf2369689",
   "metadata": {},
   "outputs": [],
   "source": [
    "# Create seperate lists, grouping men and women based on the dramatis personae of each play\n",
    "tob_men = [\"heartwell\", \"bellmour\", \"vainlove\", \"sharper\", \"sir joseph\", \"captain bluffe\", \"fondlewife\", \"setter\", \"servant\",]\n",
    "tob_women = [\"araminta\", \"belinda\", \"laetitia\", \"silvia\", \"lucy\", \"betty\",]\n",
    "tdd_men = [\"maskwell\", \"lord touchwood\", \"mellefont\", \"careless\", \"lord froth\", \"brisk\", \"sir paul plyant\",]\n",
    "tdd_women = [\"lady touchwood\", \"cynthia\", \"lady froth\", \"lady plyant\",]\n",
    "lfl_men = [\"sir sampson legend\", \"valentine\", \"scandal\", \"tattle\", \"ben\", \"foresight\", \"jeremy\", \"trapland\", \"buckram\",]\n",
    "lfl_women = [\"angelica\", \"mrs. foresight\", \"mrs. frail\", \"miss prue\", \"nurse\", \"jenny\",]\n",
    "twotw_men = [\"fainall\", \"mirabell\", \"witwoud\", \"petulant\", \"sir willfull witwoud\", \"waitwell\",]\n",
    "twotw_women =[\"lady wishfort\", \"millamant\", \"mrs. marwood\", \"mrs. fainall\", \"foible\", \"mincing\",]"
   ]
  },
  {
   "cell_type": "code",
   "execution_count": 11,
   "id": "6643b022-ef52-4a86-924c-cfa357b83736",
   "metadata": {},
   "outputs": [],
   "source": [
    "# Calculate the average speech length for each character in each act\n",
    "def calculate_average_speech_length(avg_len_dict: Dict[str, Dict[str, List[str]]]):\n",
    "    tokenizer = TweetTokenizer()\n",
    "    average_lengths = {}\n",
    "    acts_list = [\"act_1\", \"act_2\", \"act_3\", \"act_4\", \"act_5\"]\n",
    "    for character in avg_len_dict:\n",
    "        average_lengths[character] = {}\n",
    "        for act in acts_list:\n",
    "            if act not in avg_len_dict[character]:\n",
    "                average_lengths[character][act] = 0\n",
    "                continue\n",
    "            tokenized_lines = [tokenizer.tokenize(line) for line in avg_len_dict[character][act]]\n",
    "            speech_lengths = [len(tokens) for tokens in tokenized_lines]\n",
    "            average_length = round(mean(speech_lengths), 2)\n",
    "            average_lengths[character][act] = average_length\n",
    "    return average_lengths"
   ]
  },
  {
   "cell_type": "code",
   "execution_count": 12,
   "id": "5fcacf0f-afd5-476f-b443-05cf7d39ba87",
   "metadata": {},
   "outputs": [],
   "source": [
    "tob_avg_len = calculate_average_speech_length(tob)\n",
    "tdd_avg_len = calculate_average_speech_length(tdd)\n",
    "lfl_avg_len = calculate_average_speech_length(lfl)\n",
    "twotw_avg_len = calculate_average_speech_length(twotw)"
   ]
  },
  {
   "cell_type": "code",
   "execution_count": 13,
   "id": "34c1ec76-7515-405d-905a-0dbe35a8d9fa",
   "metadata": {},
   "outputs": [],
   "source": [
    "# Create a line graph based on a dictionary containing average length of character speeches\n",
    "# with buttons to show lines representing everyone, only men, or only women, or show no lines\n",
    "def create_line_graph(avg_len_dict: Dict[str, Dict[str, float]], men_list: List[str], women_list: List[str], filename: str, title=\"Line Graph\"):\n",
    "    fig = go.Figure()\n",
    "    for character, acts in avg_len_dict.items():\n",
    "        acts_list = [\"Act 1\", \"Act 2\", \"Act 3\", \"Act 4\", \"Act 5\"]\n",
    "        lengths = list(acts.values())\n",
    "        fig.add_trace(go.Scatter(x=acts_list, y=lengths, mode=\"lines+markers\", name=character.title()))\n",
    "\n",
    "    # Add button to toggle all lines\n",
    "    visible_all = [True] * len(avg_len_dict)\n",
    "    fig.update_layout(\n",
    "        updatemenus=[\n",
    "            {\n",
    "                \"buttons\": [\n",
    "                    {\n",
    "                        \"args\": [{\"visible\": visible_all}, {\"title\": title}],\n",
    "                        \"label\": \"All\",\n",
    "                        \"method\": \"update\",\n",
    "                    },\n",
    "                    {\n",
    "                        \"args\": [{\"visible\": [True if character in men_list else False for character in avg_len_dict]}, {\"title\": f\"{title} (Men)\"}],\n",
    "                        \"label\": \"Men\",\n",
    "                        \"method\": \"update\",\n",
    "                    },\n",
    "                    {\n",
    "                        \"args\": [{\"visible\": [True if character in women_list else False for character in avg_len_dict]}, {\"title\": f\"{title} (Women)\"}],\n",
    "                        \"label\": \"Women\",\n",
    "                        \"method\": \"update\",\n",
    "                    },\n",
    "                    {\n",
    "                        \"args\": [{\"visible\": \"legendonly\"}, {\"title\": f\"{title} (Custom)\"}],\n",
    "                        \"label\": \"Custom\",\n",
    "                        \"method\": \"update\",\n",
    "                    },\n",
    "                ],\n",
    "                \"direction\": \"down\",\n",
    "                \"showactive\": True,\n",
    "                \"x\": 0.01,\n",
    "                \"xanchor\": \"left\",\n",
    "                \"y\": 1.1,\n",
    "                \"yanchor\": \"top\",\n",
    "            }\n",
    "        ]\n",
    "    )\n",
    "    \n",
    "    fig.update_layout(title=title, xaxis_title=\"\", yaxis_title=\"Average Speech Length\")\n",
    "    config = {\"responsive\": True}\n",
    "    fig.show(config=config)\n",
    "    fig.write_html(f\"../../data-visualisation/average-speech-length/{filename}.html\")"
   ]
  },
  {
   "cell_type": "code",
   "execution_count": 14,
   "id": "3f0a7625-7c96-45ff-a641-296e7f5603eb",
   "metadata": {},
   "outputs": [
    {
     "data": {
      "application/vnd.plotly.v1+json": {
       "config": {
        "plotlyServerURL": "https://plot.ly",
        "responsive": true
       },
       "data": [
        {
         "mode": "lines+markers",
         "name": "Araminta",
         "type": "scatter",
         "x": [
          "Act 1",
          "Act 2",
          "Act 3",
          "Act 4",
          "Act 5"
         ],
         "y": [
          0,
          20.16,
          0,
          24.52,
          16.5
         ]
        },
        {
         "mode": "lines+markers",
         "name": "Barnaby",
         "type": "scatter",
         "x": [
          "Act 1",
          "Act 2",
          "Act 3",
          "Act 4",
          "Act 5"
         ],
         "y": [
          0,
          0,
          0,
          20.17,
          0
         ]
        },
        {
         "mode": "lines+markers",
         "name": "Belinda",
         "type": "scatter",
         "x": [
          "Act 1",
          "Act 2",
          "Act 3",
          "Act 4",
          "Act 5"
         ],
         "y": [
          0,
          26,
          0,
          43.3,
          23.92
         ]
        },
        {
         "mode": "lines+markers",
         "name": "Bellmour",
         "type": "scatter",
         "x": [
          "Act 1",
          "Act 2",
          "Act 3",
          "Act 4",
          "Act 5"
         ],
         "y": [
          37.3,
          29.92,
          19.31,
          33.09,
          27.97
         ]
        },
        {
         "mode": "lines+markers",
         "name": "Betty",
         "type": "scatter",
         "x": [
          "Act 1",
          "Act 2",
          "Act 3",
          "Act 4",
          "Act 5"
         ],
         "y": [
          0,
          7,
          0,
          0,
          0
         ]
        },
        {
         "mode": "lines+markers",
         "name": "Boy",
         "type": "scatter",
         "x": [
          "Act 1",
          "Act 2",
          "Act 3",
          "Act 4",
          "Act 5"
         ],
         "y": [
          0,
          0,
          0,
          0,
          20
         ]
        },
        {
         "mode": "lines+markers",
         "name": "Captain Bluffe",
         "type": "scatter",
         "x": [
          "Act 1",
          "Act 2",
          "Act 3",
          "Act 4",
          "Act 5"
         ],
         "y": [
          0,
          34.53,
          23.67,
          14,
          23.23
         ]
        },
        {
         "mode": "lines+markers",
         "name": "Fondlewife",
         "type": "scatter",
         "x": [
          "Act 1",
          "Act 2",
          "Act 3",
          "Act 4",
          "Act 5"
         ],
         "y": [
          0,
          0,
          0,
          33.27,
          0
         ]
        },
        {
         "mode": "lines+markers",
         "name": "Footman",
         "type": "scatter",
         "x": [
          "Act 1",
          "Act 2",
          "Act 3",
          "Act 4",
          "Act 5"
         ],
         "y": [
          0,
          13,
          0,
          25,
          0
         ]
        },
        {
         "mode": "lines+markers",
         "name": "Heartwell",
         "type": "scatter",
         "x": [
          "Act 1",
          "Act 2",
          "Act 3",
          "Act 4",
          "Act 5"
         ],
         "y": [
          46.78,
          0,
          61.06,
          0,
          29.5
         ]
        },
        {
         "mode": "lines+markers",
         "name": "Laetitia",
         "type": "scatter",
         "x": [
          "Act 1",
          "Act 2",
          "Act 3",
          "Act 4",
          "Act 5"
         ],
         "y": [
          0,
          0,
          0,
          23.48,
          0
         ]
        },
        {
         "mode": "lines+markers",
         "name": "Lucy",
         "type": "scatter",
         "x": [
          "Act 1",
          "Act 2",
          "Act 3",
          "Act 4",
          "Act 5"
         ],
         "y": [
          0,
          0,
          27.78,
          0,
          18.79
         ]
        },
        {
         "mode": "lines+markers",
         "name": "Servant",
         "type": "scatter",
         "x": [
          "Act 1",
          "Act 2",
          "Act 3",
          "Act 4",
          "Act 5"
         ],
         "y": [
          0,
          0,
          0,
          18,
          0
         ]
        },
        {
         "mode": "lines+markers",
         "name": "Setter",
         "type": "scatter",
         "x": [
          "Act 1",
          "Act 2",
          "Act 3",
          "Act 4",
          "Act 5"
         ],
         "y": [
          0,
          0,
          25.71,
          12,
          28.07
         ]
        },
        {
         "mode": "lines+markers",
         "name": "Sharper",
         "type": "scatter",
         "x": [
          "Act 1",
          "Act 2",
          "Act 3",
          "Act 4",
          "Act 5"
         ],
         "y": [
          18.08,
          20.52,
          20,
          29.36,
          21.59
         ]
        },
        {
         "mode": "lines+markers",
         "name": "Silvia",
         "type": "scatter",
         "x": [
          "Act 1",
          "Act 2",
          "Act 3",
          "Act 4",
          "Act 5"
         ],
         "y": [
          0,
          0,
          23.86,
          0,
          13
         ]
        },
        {
         "mode": "lines+markers",
         "name": "Sir Joseph",
         "type": "scatter",
         "x": [
          "Act 1",
          "Act 2",
          "Act 3",
          "Act 4",
          "Act 5"
         ],
         "y": [
          0,
          31.5,
          36,
          27.57,
          29.57
         ]
        },
        {
         "mode": "lines+markers",
         "name": "Vainlove",
         "type": "scatter",
         "x": [
          "Act 1",
          "Act 2",
          "Act 3",
          "Act 4",
          "Act 5"
         ],
         "y": [
          27.9,
          17.67,
          10.33,
          32.33,
          19
         ]
        }
       ],
       "layout": {
        "autosize": true,
        "template": {
         "data": {
          "bar": [
           {
            "error_x": {
             "color": "#2a3f5f"
            },
            "error_y": {
             "color": "#2a3f5f"
            },
            "marker": {
             "line": {
              "color": "#E5ECF6",
              "width": 0.5
             },
             "pattern": {
              "fillmode": "overlay",
              "size": 10,
              "solidity": 0.2
             }
            },
            "type": "bar"
           }
          ],
          "barpolar": [
           {
            "marker": {
             "line": {
              "color": "#E5ECF6",
              "width": 0.5
             },
             "pattern": {
              "fillmode": "overlay",
              "size": 10,
              "solidity": 0.2
             }
            },
            "type": "barpolar"
           }
          ],
          "carpet": [
           {
            "aaxis": {
             "endlinecolor": "#2a3f5f",
             "gridcolor": "white",
             "linecolor": "white",
             "minorgridcolor": "white",
             "startlinecolor": "#2a3f5f"
            },
            "baxis": {
             "endlinecolor": "#2a3f5f",
             "gridcolor": "white",
             "linecolor": "white",
             "minorgridcolor": "white",
             "startlinecolor": "#2a3f5f"
            },
            "type": "carpet"
           }
          ],
          "choropleth": [
           {
            "colorbar": {
             "outlinewidth": 0,
             "ticks": ""
            },
            "type": "choropleth"
           }
          ],
          "contour": [
           {
            "colorbar": {
             "outlinewidth": 0,
             "ticks": ""
            },
            "colorscale": [
             [
              0,
              "#0d0887"
             ],
             [
              0.1111111111111111,
              "#46039f"
             ],
             [
              0.2222222222222222,
              "#7201a8"
             ],
             [
              0.3333333333333333,
              "#9c179e"
             ],
             [
              0.4444444444444444,
              "#bd3786"
             ],
             [
              0.5555555555555556,
              "#d8576b"
             ],
             [
              0.6666666666666666,
              "#ed7953"
             ],
             [
              0.7777777777777778,
              "#fb9f3a"
             ],
             [
              0.8888888888888888,
              "#fdca26"
             ],
             [
              1,
              "#f0f921"
             ]
            ],
            "type": "contour"
           }
          ],
          "contourcarpet": [
           {
            "colorbar": {
             "outlinewidth": 0,
             "ticks": ""
            },
            "type": "contourcarpet"
           }
          ],
          "heatmap": [
           {
            "colorbar": {
             "outlinewidth": 0,
             "ticks": ""
            },
            "colorscale": [
             [
              0,
              "#0d0887"
             ],
             [
              0.1111111111111111,
              "#46039f"
             ],
             [
              0.2222222222222222,
              "#7201a8"
             ],
             [
              0.3333333333333333,
              "#9c179e"
             ],
             [
              0.4444444444444444,
              "#bd3786"
             ],
             [
              0.5555555555555556,
              "#d8576b"
             ],
             [
              0.6666666666666666,
              "#ed7953"
             ],
             [
              0.7777777777777778,
              "#fb9f3a"
             ],
             [
              0.8888888888888888,
              "#fdca26"
             ],
             [
              1,
              "#f0f921"
             ]
            ],
            "type": "heatmap"
           }
          ],
          "heatmapgl": [
           {
            "colorbar": {
             "outlinewidth": 0,
             "ticks": ""
            },
            "colorscale": [
             [
              0,
              "#0d0887"
             ],
             [
              0.1111111111111111,
              "#46039f"
             ],
             [
              0.2222222222222222,
              "#7201a8"
             ],
             [
              0.3333333333333333,
              "#9c179e"
             ],
             [
              0.4444444444444444,
              "#bd3786"
             ],
             [
              0.5555555555555556,
              "#d8576b"
             ],
             [
              0.6666666666666666,
              "#ed7953"
             ],
             [
              0.7777777777777778,
              "#fb9f3a"
             ],
             [
              0.8888888888888888,
              "#fdca26"
             ],
             [
              1,
              "#f0f921"
             ]
            ],
            "type": "heatmapgl"
           }
          ],
          "histogram": [
           {
            "marker": {
             "pattern": {
              "fillmode": "overlay",
              "size": 10,
              "solidity": 0.2
             }
            },
            "type": "histogram"
           }
          ],
          "histogram2d": [
           {
            "colorbar": {
             "outlinewidth": 0,
             "ticks": ""
            },
            "colorscale": [
             [
              0,
              "#0d0887"
             ],
             [
              0.1111111111111111,
              "#46039f"
             ],
             [
              0.2222222222222222,
              "#7201a8"
             ],
             [
              0.3333333333333333,
              "#9c179e"
             ],
             [
              0.4444444444444444,
              "#bd3786"
             ],
             [
              0.5555555555555556,
              "#d8576b"
             ],
             [
              0.6666666666666666,
              "#ed7953"
             ],
             [
              0.7777777777777778,
              "#fb9f3a"
             ],
             [
              0.8888888888888888,
              "#fdca26"
             ],
             [
              1,
              "#f0f921"
             ]
            ],
            "type": "histogram2d"
           }
          ],
          "histogram2dcontour": [
           {
            "colorbar": {
             "outlinewidth": 0,
             "ticks": ""
            },
            "colorscale": [
             [
              0,
              "#0d0887"
             ],
             [
              0.1111111111111111,
              "#46039f"
             ],
             [
              0.2222222222222222,
              "#7201a8"
             ],
             [
              0.3333333333333333,
              "#9c179e"
             ],
             [
              0.4444444444444444,
              "#bd3786"
             ],
             [
              0.5555555555555556,
              "#d8576b"
             ],
             [
              0.6666666666666666,
              "#ed7953"
             ],
             [
              0.7777777777777778,
              "#fb9f3a"
             ],
             [
              0.8888888888888888,
              "#fdca26"
             ],
             [
              1,
              "#f0f921"
             ]
            ],
            "type": "histogram2dcontour"
           }
          ],
          "mesh3d": [
           {
            "colorbar": {
             "outlinewidth": 0,
             "ticks": ""
            },
            "type": "mesh3d"
           }
          ],
          "parcoords": [
           {
            "line": {
             "colorbar": {
              "outlinewidth": 0,
              "ticks": ""
             }
            },
            "type": "parcoords"
           }
          ],
          "pie": [
           {
            "automargin": true,
            "type": "pie"
           }
          ],
          "scatter": [
           {
            "fillpattern": {
             "fillmode": "overlay",
             "size": 10,
             "solidity": 0.2
            },
            "type": "scatter"
           }
          ],
          "scatter3d": [
           {
            "line": {
             "colorbar": {
              "outlinewidth": 0,
              "ticks": ""
             }
            },
            "marker": {
             "colorbar": {
              "outlinewidth": 0,
              "ticks": ""
             }
            },
            "type": "scatter3d"
           }
          ],
          "scattercarpet": [
           {
            "marker": {
             "colorbar": {
              "outlinewidth": 0,
              "ticks": ""
             }
            },
            "type": "scattercarpet"
           }
          ],
          "scattergeo": [
           {
            "marker": {
             "colorbar": {
              "outlinewidth": 0,
              "ticks": ""
             }
            },
            "type": "scattergeo"
           }
          ],
          "scattergl": [
           {
            "marker": {
             "colorbar": {
              "outlinewidth": 0,
              "ticks": ""
             }
            },
            "type": "scattergl"
           }
          ],
          "scattermapbox": [
           {
            "marker": {
             "colorbar": {
              "outlinewidth": 0,
              "ticks": ""
             }
            },
            "type": "scattermapbox"
           }
          ],
          "scatterpolar": [
           {
            "marker": {
             "colorbar": {
              "outlinewidth": 0,
              "ticks": ""
             }
            },
            "type": "scatterpolar"
           }
          ],
          "scatterpolargl": [
           {
            "marker": {
             "colorbar": {
              "outlinewidth": 0,
              "ticks": ""
             }
            },
            "type": "scatterpolargl"
           }
          ],
          "scatterternary": [
           {
            "marker": {
             "colorbar": {
              "outlinewidth": 0,
              "ticks": ""
             }
            },
            "type": "scatterternary"
           }
          ],
          "surface": [
           {
            "colorbar": {
             "outlinewidth": 0,
             "ticks": ""
            },
            "colorscale": [
             [
              0,
              "#0d0887"
             ],
             [
              0.1111111111111111,
              "#46039f"
             ],
             [
              0.2222222222222222,
              "#7201a8"
             ],
             [
              0.3333333333333333,
              "#9c179e"
             ],
             [
              0.4444444444444444,
              "#bd3786"
             ],
             [
              0.5555555555555556,
              "#d8576b"
             ],
             [
              0.6666666666666666,
              "#ed7953"
             ],
             [
              0.7777777777777778,
              "#fb9f3a"
             ],
             [
              0.8888888888888888,
              "#fdca26"
             ],
             [
              1,
              "#f0f921"
             ]
            ],
            "type": "surface"
           }
          ],
          "table": [
           {
            "cells": {
             "fill": {
              "color": "#EBF0F8"
             },
             "line": {
              "color": "white"
             }
            },
            "header": {
             "fill": {
              "color": "#C8D4E3"
             },
             "line": {
              "color": "white"
             }
            },
            "type": "table"
           }
          ]
         },
         "layout": {
          "annotationdefaults": {
           "arrowcolor": "#2a3f5f",
           "arrowhead": 0,
           "arrowwidth": 1
          },
          "autotypenumbers": "strict",
          "coloraxis": {
           "colorbar": {
            "outlinewidth": 0,
            "ticks": ""
           }
          },
          "colorscale": {
           "diverging": [
            [
             0,
             "#8e0152"
            ],
            [
             0.1,
             "#c51b7d"
            ],
            [
             0.2,
             "#de77ae"
            ],
            [
             0.3,
             "#f1b6da"
            ],
            [
             0.4,
             "#fde0ef"
            ],
            [
             0.5,
             "#f7f7f7"
            ],
            [
             0.6,
             "#e6f5d0"
            ],
            [
             0.7,
             "#b8e186"
            ],
            [
             0.8,
             "#7fbc41"
            ],
            [
             0.9,
             "#4d9221"
            ],
            [
             1,
             "#276419"
            ]
           ],
           "sequential": [
            [
             0,
             "#0d0887"
            ],
            [
             0.1111111111111111,
             "#46039f"
            ],
            [
             0.2222222222222222,
             "#7201a8"
            ],
            [
             0.3333333333333333,
             "#9c179e"
            ],
            [
             0.4444444444444444,
             "#bd3786"
            ],
            [
             0.5555555555555556,
             "#d8576b"
            ],
            [
             0.6666666666666666,
             "#ed7953"
            ],
            [
             0.7777777777777778,
             "#fb9f3a"
            ],
            [
             0.8888888888888888,
             "#fdca26"
            ],
            [
             1,
             "#f0f921"
            ]
           ],
           "sequentialminus": [
            [
             0,
             "#0d0887"
            ],
            [
             0.1111111111111111,
             "#46039f"
            ],
            [
             0.2222222222222222,
             "#7201a8"
            ],
            [
             0.3333333333333333,
             "#9c179e"
            ],
            [
             0.4444444444444444,
             "#bd3786"
            ],
            [
             0.5555555555555556,
             "#d8576b"
            ],
            [
             0.6666666666666666,
             "#ed7953"
            ],
            [
             0.7777777777777778,
             "#fb9f3a"
            ],
            [
             0.8888888888888888,
             "#fdca26"
            ],
            [
             1,
             "#f0f921"
            ]
           ]
          },
          "colorway": [
           "#636efa",
           "#EF553B",
           "#00cc96",
           "#ab63fa",
           "#FFA15A",
           "#19d3f3",
           "#FF6692",
           "#B6E880",
           "#FF97FF",
           "#FECB52"
          ],
          "font": {
           "color": "#2a3f5f"
          },
          "geo": {
           "bgcolor": "white",
           "lakecolor": "white",
           "landcolor": "#E5ECF6",
           "showlakes": true,
           "showland": true,
           "subunitcolor": "white"
          },
          "hoverlabel": {
           "align": "left"
          },
          "hovermode": "closest",
          "mapbox": {
           "style": "light"
          },
          "paper_bgcolor": "white",
          "plot_bgcolor": "#E5ECF6",
          "polar": {
           "angularaxis": {
            "gridcolor": "white",
            "linecolor": "white",
            "ticks": ""
           },
           "bgcolor": "#E5ECF6",
           "radialaxis": {
            "gridcolor": "white",
            "linecolor": "white",
            "ticks": ""
           }
          },
          "scene": {
           "xaxis": {
            "backgroundcolor": "#E5ECF6",
            "gridcolor": "white",
            "gridwidth": 2,
            "linecolor": "white",
            "showbackground": true,
            "ticks": "",
            "zerolinecolor": "white"
           },
           "yaxis": {
            "backgroundcolor": "#E5ECF6",
            "gridcolor": "white",
            "gridwidth": 2,
            "linecolor": "white",
            "showbackground": true,
            "ticks": "",
            "zerolinecolor": "white"
           },
           "zaxis": {
            "backgroundcolor": "#E5ECF6",
            "gridcolor": "white",
            "gridwidth": 2,
            "linecolor": "white",
            "showbackground": true,
            "ticks": "",
            "zerolinecolor": "white"
           }
          },
          "shapedefaults": {
           "line": {
            "color": "#2a3f5f"
           }
          },
          "ternary": {
           "aaxis": {
            "gridcolor": "white",
            "linecolor": "white",
            "ticks": ""
           },
           "baxis": {
            "gridcolor": "white",
            "linecolor": "white",
            "ticks": ""
           },
           "bgcolor": "#E5ECF6",
           "caxis": {
            "gridcolor": "white",
            "linecolor": "white",
            "ticks": ""
           }
          },
          "title": {
           "x": 0.05
          },
          "xaxis": {
           "automargin": true,
           "gridcolor": "white",
           "linecolor": "white",
           "ticks": "",
           "title": {
            "standoff": 15
           },
           "zerolinecolor": "white",
           "zerolinewidth": 2
          },
          "yaxis": {
           "automargin": true,
           "gridcolor": "white",
           "linecolor": "white",
           "ticks": "",
           "title": {
            "standoff": 15
           },
           "zerolinecolor": "white",
           "zerolinewidth": 2
          }
         }
        },
        "title": {
         "text": "The Old Bachelor"
        },
        "updatemenus": [
         {
          "buttons": [
           {
            "args": [
             {
              "visible": [
               true,
               true,
               true,
               true,
               true,
               true,
               true,
               true,
               true,
               true,
               true,
               true,
               true,
               true,
               true,
               true,
               true,
               true
              ]
             },
             {
              "title": "The Old Bachelor"
             }
            ],
            "label": "All",
            "method": "update"
           },
           {
            "args": [
             {
              "visible": [
               false,
               false,
               false,
               true,
               false,
               false,
               true,
               true,
               false,
               true,
               false,
               false,
               true,
               true,
               true,
               false,
               true,
               true
              ]
             },
             {
              "title": "The Old Bachelor (Men)"
             }
            ],
            "label": "Men",
            "method": "update"
           },
           {
            "args": [
             {
              "visible": [
               true,
               false,
               true,
               false,
               true,
               false,
               false,
               false,
               false,
               false,
               true,
               true,
               false,
               false,
               false,
               true,
               false,
               false
              ]
             },
             {
              "title": "The Old Bachelor (Women)"
             }
            ],
            "label": "Women",
            "method": "update"
           },
           {
            "args": [
             {
              "visible": "legendonly"
             },
             {
              "title": "The Old Bachelor (Custom)"
             }
            ],
            "label": "Custom",
            "method": "update"
           }
          ],
          "direction": "down",
          "showactive": true,
          "x": 0.01,
          "xanchor": "left",
          "y": 1.1,
          "yanchor": "top"
         }
        ],
        "xaxis": {
         "autorange": true,
         "range": [
          -0.24399164054336475,
          4.243991640543364
         ],
         "title": {
          "text": ""
         },
         "type": "category"
        },
        "yaxis": {
         "autorange": true,
         "range": [
          -5.038932038834951,
          66.09893203883496
         ],
         "title": {
          "text": "Average Speech Length"
         },
         "type": "linear"
        }
       }
      },
      "image/png": "[encoded data removed]",
      "text/html": [
       "<div>                            <div id=\"881ecbfd-929e-49a1-bea7-a27addf6fef1\" class=\"plotly-graph-div\" style=\"height:525px; width:100%;\"></div>            <script type=\"text/javascript\">                require([\"plotly\"], function(Plotly) {                    window.PLOTLYENV=window.PLOTLYENV || {};                                    if (document.getElementById(\"881ecbfd-929e-49a1-bea7-a27addf6fef1\")) {                    Plotly.newPlot(                        \"881ecbfd-929e-49a1-bea7-a27addf6fef1\",                        [{\"mode\":\"lines+markers\",\"name\":\"Araminta\",\"x\":[\"Act 1\",\"Act 2\",\"Act 3\",\"Act 4\",\"Act 5\"],\"y\":[0,20.16,0,24.52,16.5],\"type\":\"scatter\"},{\"mode\":\"lines+markers\",\"name\":\"Barnaby\",\"x\":[\"Act 1\",\"Act 2\",\"Act 3\",\"Act 4\",\"Act 5\"],\"y\":[0,0,0,20.17,0],\"type\":\"scatter\"},{\"mode\":\"lines+markers\",\"name\":\"Belinda\",\"x\":[\"Act 1\",\"Act 2\",\"Act 3\",\"Act 4\",\"Act 5\"],\"y\":[0,26,0,43.3,23.92],\"type\":\"scatter\"},{\"mode\":\"lines+markers\",\"name\":\"Bellmour\",\"x\":[\"Act 1\",\"Act 2\",\"Act 3\",\"Act 4\",\"Act 5\"],\"y\":[37.3,29.92,19.31,33.09,27.97],\"type\":\"scatter\"},{\"mode\":\"lines+markers\",\"name\":\"Betty\",\"x\":[\"Act 1\",\"Act 2\",\"Act 3\",\"Act 4\",\"Act 5\"],\"y\":[0,7,0,0,0],\"type\":\"scatter\"},{\"mode\":\"lines+markers\",\"name\":\"Boy\",\"x\":[\"Act 1\",\"Act 2\",\"Act 3\",\"Act 4\",\"Act 5\"],\"y\":[0,0,0,0,20],\"type\":\"scatter\"},{\"mode\":\"lines+markers\",\"name\":\"Captain Bluffe\",\"x\":[\"Act 1\",\"Act 2\",\"Act 3\",\"Act 4\",\"Act 5\"],\"y\":[0,34.53,23.67,14,23.23],\"type\":\"scatter\"},{\"mode\":\"lines+markers\",\"name\":\"Fondlewife\",\"x\":[\"Act 1\",\"Act 2\",\"Act 3\",\"Act 4\",\"Act 5\"],\"y\":[0,0,0,33.27,0],\"type\":\"scatter\"},{\"mode\":\"lines+markers\",\"name\":\"Footman\",\"x\":[\"Act 1\",\"Act 2\",\"Act 3\",\"Act 4\",\"Act 5\"],\"y\":[0,13,0,25,0],\"type\":\"scatter\"},{\"mode\":\"lines+markers\",\"name\":\"Heartwell\",\"x\":[\"Act 1\",\"Act 2\",\"Act 3\",\"Act 4\",\"Act 5\"],\"y\":[46.78,0,61.06,0,29.5],\"type\":\"scatter\"},{\"mode\":\"lines+markers\",\"name\":\"Laetitia\",\"x\":[\"Act 1\",\"Act 2\",\"Act 3\",\"Act 4\",\"Act 5\"],\"y\":[0,0,0,23.48,0],\"type\":\"scatter\"},{\"mode\":\"lines+markers\",\"name\":\"Lucy\",\"x\":[\"Act 1\",\"Act 2\",\"Act 3\",\"Act 4\",\"Act 5\"],\"y\":[0,0,27.78,0,18.79],\"type\":\"scatter\"},{\"mode\":\"lines+markers\",\"name\":\"Servant\",\"x\":[\"Act 1\",\"Act 2\",\"Act 3\",\"Act 4\",\"Act 5\"],\"y\":[0,0,0,18,0],\"type\":\"scatter\"},{\"mode\":\"lines+markers\",\"name\":\"Setter\",\"x\":[\"Act 1\",\"Act 2\",\"Act 3\",\"Act 4\",\"Act 5\"],\"y\":[0,0,25.71,12,28.07],\"type\":\"scatter\"},{\"mode\":\"lines+markers\",\"name\":\"Sharper\",\"x\":[\"Act 1\",\"Act 2\",\"Act 3\",\"Act 4\",\"Act 5\"],\"y\":[18.08,20.52,20,29.36,21.59],\"type\":\"scatter\"},{\"mode\":\"lines+markers\",\"name\":\"Silvia\",\"x\":[\"Act 1\",\"Act 2\",\"Act 3\",\"Act 4\",\"Act 5\"],\"y\":[0,0,23.86,0,13],\"type\":\"scatter\"},{\"mode\":\"lines+markers\",\"name\":\"Sir Joseph\",\"x\":[\"Act 1\",\"Act 2\",\"Act 3\",\"Act 4\",\"Act 5\"],\"y\":[0,31.5,36,27.57,29.57],\"type\":\"scatter\"},{\"mode\":\"lines+markers\",\"name\":\"Vainlove\",\"x\":[\"Act 1\",\"Act 2\",\"Act 3\",\"Act 4\",\"Act 5\"],\"y\":[27.9,17.67,10.33,32.33,19],\"type\":\"scatter\"}],                        {\"template\":{\"data\":{\"histogram2dcontour\":[{\"type\":\"histogram2dcontour\",\"colorbar\":{\"outlinewidth\":0,\"ticks\":\"\"},\"colorscale\":[[0.0,\"#0d0887\"],[0.1111111111111111,\"#46039f\"],[0.2222222222222222,\"#7201a8\"],[0.3333333333333333,\"#9c179e\"],[0.4444444444444444,\"#bd3786\"],[0.5555555555555556,\"#d8576b\"],[0.6666666666666666,\"#ed7953\"],[0.7777777777777778,\"#fb9f3a\"],[0.8888888888888888,\"#fdca26\"],[1.0,\"#f0f921\"]]}],\"choropleth\":[{\"type\":\"choropleth\",\"colorbar\":{\"outlinewidth\":0,\"ticks\":\"\"}}],\"histogram2d\":[{\"type\":\"histogram2d\",\"colorbar\":{\"outlinewidth\":0,\"ticks\":\"\"},\"colorscale\":[[0.0,\"#0d0887\"],[0.1111111111111111,\"#46039f\"],[0.2222222222222222,\"#7201a8\"],[0.3333333333333333,\"#9c179e\"],[0.4444444444444444,\"#bd3786\"],[0.5555555555555556,\"#d8576b\"],[0.6666666666666666,\"#ed7953\"],[0.7777777777777778,\"#fb9f3a\"],[0.8888888888888888,\"#fdca26\"],[1.0,\"#f0f921\"]]}],\"heatmap\":[{\"type\":\"heatmap\",\"colorbar\":{\"outlinewidth\":0,\"ticks\":\"\"},\"colorscale\":[[0.0,\"#0d0887\"],[0.1111111111111111,\"#46039f\"],[0.2222222222222222,\"#7201a8\"],[0.3333333333333333,\"#9c179e\"],[0.4444444444444444,\"#bd3786\"],[0.5555555555555556,\"#d8576b\"],[0.6666666666666666,\"#ed7953\"],[0.7777777777777778,\"#fb9f3a\"],[0.8888888888888888,\"#fdca26\"],[1.0,\"#f0f921\"]]}],\"heatmapgl\":[{\"type\":\"heatmapgl\",\"colorbar\":{\"outlinewidth\":0,\"ticks\":\"\"},\"colorscale\":[[0.0,\"#0d0887\"],[0.1111111111111111,\"#46039f\"],[0.2222222222222222,\"#7201a8\"],[0.3333333333333333,\"#9c179e\"],[0.4444444444444444,\"#bd3786\"],[0.5555555555555556,\"#d8576b\"],[0.6666666666666666,\"#ed7953\"],[0.7777777777777778,\"#fb9f3a\"],[0.8888888888888888,\"#fdca26\"],[1.0,\"#f0f921\"]]}],\"contourcarpet\":[{\"type\":\"contourcarpet\",\"colorbar\":{\"outlinewidth\":0,\"ticks\":\"\"}}],\"contour\":[{\"type\":\"contour\",\"colorbar\":{\"outlinewidth\":0,\"ticks\":\"\"},\"colorscale\":[[0.0,\"#0d0887\"],[0.1111111111111111,\"#46039f\"],[0.2222222222222222,\"#7201a8\"],[0.3333333333333333,\"#9c179e\"],[0.4444444444444444,\"#bd3786\"],[0.5555555555555556,\"#d8576b\"],[0.6666666666666666,\"#ed7953\"],[0.7777777777777778,\"#fb9f3a\"],[0.8888888888888888,\"#fdca26\"],[1.0,\"#f0f921\"]]}],\"surface\":[{\"type\":\"surface\",\"colorbar\":{\"outlinewidth\":0,\"ticks\":\"\"},\"colorscale\":[[0.0,\"#0d0887\"],[0.1111111111111111,\"#46039f\"],[0.2222222222222222,\"#7201a8\"],[0.3333333333333333,\"#9c179e\"],[0.4444444444444444,\"#bd3786\"],[0.5555555555555556,\"#d8576b\"],[0.6666666666666666,\"#ed7953\"],[0.7777777777777778,\"#fb9f3a\"],[0.8888888888888888,\"#fdca26\"],[1.0,\"#f0f921\"]]}],\"mesh3d\":[{\"type\":\"mesh3d\",\"colorbar\":{\"outlinewidth\":0,\"ticks\":\"\"}}],\"scatter\":[{\"fillpattern\":{\"fillmode\":\"overlay\",\"size\":10,\"solidity\":0.2},\"type\":\"scatter\"}],\"parcoords\":[{\"type\":\"parcoords\",\"line\":{\"colorbar\":{\"outlinewidth\":0,\"ticks\":\"\"}}}],\"scatterpolargl\":[{\"type\":\"scatterpolargl\",\"marker\":{\"colorbar\":{\"outlinewidth\":0,\"ticks\":\"\"}}}],\"bar\":[{\"error_x\":{\"color\":\"#2a3f5f\"},\"error_y\":{\"color\":\"#2a3f5f\"},\"marker\":{\"line\":{\"color\":\"#E5ECF6\",\"width\":0.5},\"pattern\":{\"fillmode\":\"overlay\",\"size\":10,\"solidity\":0.2}},\"type\":\"bar\"}],\"scattergeo\":[{\"type\":\"scattergeo\",\"marker\":{\"colorbar\":{\"outlinewidth\":0,\"ticks\":\"\"}}}],\"scatterpolar\":[{\"type\":\"scatterpolar\",\"marker\":{\"colorbar\":{\"outlinewidth\":0,\"ticks\":\"\"}}}],\"histogram\":[{\"marker\":{\"pattern\":{\"fillmode\":\"overlay\",\"size\":10,\"solidity\":0.2}},\"type\":\"histogram\"}],\"scattergl\":[{\"type\":\"scattergl\",\"marker\":{\"colorbar\":{\"outlinewidth\":0,\"ticks\":\"\"}}}],\"scatter3d\":[{\"type\":\"scatter3d\",\"line\":{\"colorbar\":{\"outlinewidth\":0,\"ticks\":\"\"}},\"marker\":{\"colorbar\":{\"outlinewidth\":0,\"ticks\":\"\"}}}],\"scattermapbox\":[{\"type\":\"scattermapbox\",\"marker\":{\"colorbar\":{\"outlinewidth\":0,\"ticks\":\"\"}}}],\"scatterternary\":[{\"type\":\"scatterternary\",\"marker\":{\"colorbar\":{\"outlinewidth\":0,\"ticks\":\"\"}}}],\"scattercarpet\":[{\"type\":\"scattercarpet\",\"marker\":{\"colorbar\":{\"outlinewidth\":0,\"ticks\":\"\"}}}],\"carpet\":[{\"aaxis\":{\"endlinecolor\":\"#2a3f5f\",\"gridcolor\":\"white\",\"linecolor\":\"white\",\"minorgridcolor\":\"white\",\"startlinecolor\":\"#2a3f5f\"},\"baxis\":{\"endlinecolor\":\"#2a3f5f\",\"gridcolor\":\"white\",\"linecolor\":\"white\",\"minorgridcolor\":\"white\",\"startlinecolor\":\"#2a3f5f\"},\"type\":\"carpet\"}],\"table\":[{\"cells\":{\"fill\":{\"color\":\"#EBF0F8\"},\"line\":{\"color\":\"white\"}},\"header\":{\"fill\":{\"color\":\"#C8D4E3\"},\"line\":{\"color\":\"white\"}},\"type\":\"table\"}],\"barpolar\":[{\"marker\":{\"line\":{\"color\":\"#E5ECF6\",\"width\":0.5},\"pattern\":{\"fillmode\":\"overlay\",\"size\":10,\"solidity\":0.2}},\"type\":\"barpolar\"}],\"pie\":[{\"automargin\":true,\"type\":\"pie\"}]},\"layout\":{\"autotypenumbers\":\"strict\",\"colorway\":[\"#636efa\",\"#EF553B\",\"#00cc96\",\"#ab63fa\",\"#FFA15A\",\"#19d3f3\",\"#FF6692\",\"#B6E880\",\"#FF97FF\",\"#FECB52\"],\"font\":{\"color\":\"#2a3f5f\"},\"hovermode\":\"closest\",\"hoverlabel\":{\"align\":\"left\"},\"paper_bgcolor\":\"white\",\"plot_bgcolor\":\"#E5ECF6\",\"polar\":{\"bgcolor\":\"#E5ECF6\",\"angularaxis\":{\"gridcolor\":\"white\",\"linecolor\":\"white\",\"ticks\":\"\"},\"radialaxis\":{\"gridcolor\":\"white\",\"linecolor\":\"white\",\"ticks\":\"\"}},\"ternary\":{\"bgcolor\":\"#E5ECF6\",\"aaxis\":{\"gridcolor\":\"white\",\"linecolor\":\"white\",\"ticks\":\"\"},\"baxis\":{\"gridcolor\":\"white\",\"linecolor\":\"white\",\"ticks\":\"\"},\"caxis\":{\"gridcolor\":\"white\",\"linecolor\":\"white\",\"ticks\":\"\"}},\"coloraxis\":{\"colorbar\":{\"outlinewidth\":0,\"ticks\":\"\"}},\"colorscale\":{\"sequential\":[[0.0,\"#0d0887\"],[0.1111111111111111,\"#46039f\"],[0.2222222222222222,\"#7201a8\"],[0.3333333333333333,\"#9c179e\"],[0.4444444444444444,\"#bd3786\"],[0.5555555555555556,\"#d8576b\"],[0.6666666666666666,\"#ed7953\"],[0.7777777777777778,\"#fb9f3a\"],[0.8888888888888888,\"#fdca26\"],[1.0,\"#f0f921\"]],\"sequentialminus\":[[0.0,\"#0d0887\"],[0.1111111111111111,\"#46039f\"],[0.2222222222222222,\"#7201a8\"],[0.3333333333333333,\"#9c179e\"],[0.4444444444444444,\"#bd3786\"],[0.5555555555555556,\"#d8576b\"],[0.6666666666666666,\"#ed7953\"],[0.7777777777777778,\"#fb9f3a\"],[0.8888888888888888,\"#fdca26\"],[1.0,\"#f0f921\"]],\"diverging\":[[0,\"#8e0152\"],[0.1,\"#c51b7d\"],[0.2,\"#de77ae\"],[0.3,\"#f1b6da\"],[0.4,\"#fde0ef\"],[0.5,\"#f7f7f7\"],[0.6,\"#e6f5d0\"],[0.7,\"#b8e186\"],[0.8,\"#7fbc41\"],[0.9,\"#4d9221\"],[1,\"#276419\"]]},\"xaxis\":{\"gridcolor\":\"white\",\"linecolor\":\"white\",\"ticks\":\"\",\"title\":{\"standoff\":15},\"zerolinecolor\":\"white\",\"automargin\":true,\"zerolinewidth\":2},\"yaxis\":{\"gridcolor\":\"white\",\"linecolor\":\"white\",\"ticks\":\"\",\"title\":{\"standoff\":15},\"zerolinecolor\":\"white\",\"automargin\":true,\"zerolinewidth\":2},\"scene\":{\"xaxis\":{\"backgroundcolor\":\"#E5ECF6\",\"gridcolor\":\"white\",\"linecolor\":\"white\",\"showbackground\":true,\"ticks\":\"\",\"zerolinecolor\":\"white\",\"gridwidth\":2},\"yaxis\":{\"backgroundcolor\":\"#E5ECF6\",\"gridcolor\":\"white\",\"linecolor\":\"white\",\"showbackground\":true,\"ticks\":\"\",\"zerolinecolor\":\"white\",\"gridwidth\":2},\"zaxis\":{\"backgroundcolor\":\"#E5ECF6\",\"gridcolor\":\"white\",\"linecolor\":\"white\",\"showbackground\":true,\"ticks\":\"\",\"zerolinecolor\":\"white\",\"gridwidth\":2}},\"shapedefaults\":{\"line\":{\"color\":\"#2a3f5f\"}},\"annotationdefaults\":{\"arrowcolor\":\"#2a3f5f\",\"arrowhead\":0,\"arrowwidth\":1},\"geo\":{\"bgcolor\":\"white\",\"landcolor\":\"#E5ECF6\",\"subunitcolor\":\"white\",\"showland\":true,\"showlakes\":true,\"lakecolor\":\"white\"},\"title\":{\"x\":0.05},\"mapbox\":{\"style\":\"light\"}}},\"updatemenus\":[{\"buttons\":[{\"args\":[{\"visible\":[true,true,true,true,true,true,true,true,true,true,true,true,true,true,true,true,true,true]},{\"title\":\"The Old Bachelor\"}],\"label\":\"All\",\"method\":\"update\"},{\"args\":[{\"visible\":[false,false,false,true,false,false,true,true,false,true,false,false,true,true,true,false,true,true]},{\"title\":\"The Old Bachelor (Men)\"}],\"label\":\"Men\",\"method\":\"update\"},{\"args\":[{\"visible\":[true,false,true,false,true,false,false,false,false,false,true,true,false,false,false,true,false,false]},{\"title\":\"The Old Bachelor (Women)\"}],\"label\":\"Women\",\"method\":\"update\"},{\"args\":[{\"visible\":\"legendonly\"},{\"title\":\"The Old Bachelor (Custom)\"}],\"label\":\"Custom\",\"method\":\"update\"}],\"direction\":\"down\",\"showactive\":true,\"x\":0.01,\"xanchor\":\"left\",\"y\":1.1,\"yanchor\":\"top\"}],\"title\":{\"text\":\"The Old Bachelor\"},\"xaxis\":{\"title\":{\"text\":\"\"}},\"yaxis\":{\"title\":{\"text\":\"Average Speech Length\"}}},                        {\"responsive\": true}                    ).then(function(){\n",
       "                            \n",
       "var gd = document.getElementById('881ecbfd-929e-49a1-bea7-a27addf6fef1');\n",
       "var x = new MutationObserver(function (mutations, observer) {{\n",
       "        var display = window.getComputedStyle(gd).display;\n",
       "        if (!display || display === 'none') {{\n",
       "            console.log([gd, 'removed!']);\n",
       "            Plotly.purge(gd);\n",
       "            observer.disconnect();\n",
       "        }}\n",
       "}});\n",
       "\n",
       "// Listen for the removal of the full notebook cells\n",
       "var notebookContainer = gd.closest('#notebook-container');\n",
       "if (notebookContainer) {{\n",
       "    x.observe(notebookContainer, {childList: true});\n",
       "}}\n",
       "\n",
       "// Listen for the clearing of the current output cell\n",
       "var outputEl = gd.closest('.output');\n",
       "if (outputEl) {{\n",
       "    x.observe(outputEl, {childList: true});\n",
       "}}\n",
       "\n",
       "                        })                };                });            </script>        </div>"
      ]
     },
     "metadata": {},
     "output_type": "display_data"
    },
    {
     "data": {
      "application/vnd.plotly.v1+json": {
       "config": {
        "plotlyServerURL": "https://plot.ly",
        "responsive": true
       },
       "data": [
        {
         "mode": "lines+markers",
         "name": "All",
         "type": "scatter",
         "x": [
          "Act 1",
          "Act 2",
          "Act 3",
          "Act 4",
          "Act 5"
         ],
         "y": [
          0,
          0,
          0,
          0,
          4
         ]
        },
        {
         "mode": "lines+markers",
         "name": "Boy",
         "type": "scatter",
         "x": [
          "Act 1",
          "Act 2",
          "Act 3",
          "Act 4",
          "Act 5"
         ],
         "y": [
          0,
          0,
          6.5,
          0,
          0
         ]
        },
        {
         "mode": "lines+markers",
         "name": "Brisk",
         "type": "scatter",
         "x": [
          "Act 1",
          "Act 2",
          "Act 3",
          "Act 4",
          "Act 5"
         ],
         "y": [
          51.69,
          19.78,
          30.07,
          39.41,
          18.8
         ]
        },
        {
         "mode": "lines+markers",
         "name": "Careless",
         "type": "scatter",
         "x": [
          "Act 1",
          "Act 2",
          "Act 3",
          "Act 4",
          "Act 5"
         ],
         "y": [
          22.58,
          0,
          26.15,
          26.13,
          19.17
         ]
        },
        {
         "mode": "lines+markers",
         "name": "Cynthia",
         "type": "scatter",
         "x": [
          "Act 1",
          "Act 2",
          "Act 3",
          "Act 4",
          "Act 5"
         ],
         "y": [
          0,
          18.3,
          30.44,
          25.59,
          14.37
         ]
        },
        {
         "mode": "lines+markers",
         "name": "Footman",
         "type": "scatter",
         "x": [
          "Act 1",
          "Act 2",
          "Act 3",
          "Act 4",
          "Act 5"
         ],
         "y": [
          0,
          0,
          5,
          0,
          0
         ]
        },
        {
         "mode": "lines+markers",
         "name": "Lady Froth",
         "type": "scatter",
         "x": [
          "Act 1",
          "Act 2",
          "Act 3",
          "Act 4",
          "Act 5"
         ],
         "y": [
          0,
          33.82,
          30.41,
          19.8,
          15.67
         ]
        },
        {
         "mode": "lines+markers",
         "name": "Lady Plyant",
         "type": "scatter",
         "x": [
          "Act 1",
          "Act 2",
          "Act 3",
          "Act 4",
          "Act 5"
         ],
         "y": [
          0,
          53.81,
          36.36,
          38.61,
          18.5
         ]
        },
        {
         "mode": "lines+markers",
         "name": "Lady Touchwood",
         "type": "scatter",
         "x": [
          "Act 1",
          "Act 2",
          "Act 3",
          "Act 4",
          "Act 5"
         ],
         "y": [
          34.06,
          0,
          33.86,
          28.38,
          33.96
         ]
        },
        {
         "mode": "lines+markers",
         "name": "Lord Froth",
         "type": "scatter",
         "x": [
          "Act 1",
          "Act 2",
          "Act 3",
          "Act 4",
          "Act 5"
         ],
         "y": [
          30,
          16.7,
          31.4,
          12.25,
          12.5
         ]
        },
        {
         "mode": "lines+markers",
         "name": "Lord Touchwood",
         "type": "scatter",
         "x": [
          "Act 1",
          "Act 2",
          "Act 3",
          "Act 4",
          "Act 5"
         ],
         "y": [
          22,
          0,
          18.91,
          21.25,
          27.11
         ]
        },
        {
         "mode": "lines+markers",
         "name": "Mellefont",
         "type": "scatter",
         "x": [
          "Act 1",
          "Act 2",
          "Act 3",
          "Act 4",
          "Act 5"
         ],
         "y": [
          42.92,
          23.86,
          32.17,
          23.17,
          15.22
         ]
        },
        {
         "mode": "lines+markers",
         "name": "Maskwell",
         "type": "scatter",
         "x": [
          "Act 1",
          "Act 2",
          "Act 3",
          "Act 4",
          "Act 5"
         ],
         "y": [
          45.88,
          110.86,
          46.71,
          26.05,
          39.62
         ]
        },
        {
         "mode": "lines+markers",
         "name": "Mr. Saygrace",
         "type": "scatter",
         "x": [
          "Act 1",
          "Act 2",
          "Act 3",
          "Act 4",
          "Act 5"
         ],
         "y": [
          0,
          0,
          0,
          0,
          17.33
         ]
        },
        {
         "mode": "lines+markers",
         "name": "Sir Paul Plyant",
         "type": "scatter",
         "x": [
          "Act 1",
          "Act 2",
          "Act 3",
          "Act 4",
          "Act 5"
         ],
         "y": [
          52,
          42.15,
          37.09,
          50.32,
          22.69
         ]
        }
       ],
       "layout": {
        "autosize": true,
        "template": {
         "data": {
          "bar": [
           {
            "error_x": {
             "color": "#2a3f5f"
            },
            "error_y": {
             "color": "#2a3f5f"
            },
            "marker": {
             "line": {
              "color": "#E5ECF6",
              "width": 0.5
             },
             "pattern": {
              "fillmode": "overlay",
              "size": 10,
              "solidity": 0.2
             }
            },
            "type": "bar"
           }
          ],
          "barpolar": [
           {
            "marker": {
             "line": {
              "color": "#E5ECF6",
              "width": 0.5
             },
             "pattern": {
              "fillmode": "overlay",
              "size": 10,
              "solidity": 0.2
             }
            },
            "type": "barpolar"
           }
          ],
          "carpet": [
           {
            "aaxis": {
             "endlinecolor": "#2a3f5f",
             "gridcolor": "white",
             "linecolor": "white",
             "minorgridcolor": "white",
             "startlinecolor": "#2a3f5f"
            },
            "baxis": {
             "endlinecolor": "#2a3f5f",
             "gridcolor": "white",
             "linecolor": "white",
             "minorgridcolor": "white",
             "startlinecolor": "#2a3f5f"
            },
            "type": "carpet"
           }
          ],
          "choropleth": [
           {
            "colorbar": {
             "outlinewidth": 0,
             "ticks": ""
            },
            "type": "choropleth"
           }
          ],
          "contour": [
           {
            "colorbar": {
             "outlinewidth": 0,
             "ticks": ""
            },
            "colorscale": [
             [
              0,
              "#0d0887"
             ],
             [
              0.1111111111111111,
              "#46039f"
             ],
             [
              0.2222222222222222,
              "#7201a8"
             ],
             [
              0.3333333333333333,
              "#9c179e"
             ],
             [
              0.4444444444444444,
              "#bd3786"
             ],
             [
              0.5555555555555556,
              "#d8576b"
             ],
             [
              0.6666666666666666,
              "#ed7953"
             ],
             [
              0.7777777777777778,
              "#fb9f3a"
             ],
             [
              0.8888888888888888,
              "#fdca26"
             ],
             [
              1,
              "#f0f921"
             ]
            ],
            "type": "contour"
           }
          ],
          "contourcarpet": [
           {
            "colorbar": {
             "outlinewidth": 0,
             "ticks": ""
            },
            "type": "contourcarpet"
           }
          ],
          "heatmap": [
           {
            "colorbar": {
             "outlinewidth": 0,
             "ticks": ""
            },
            "colorscale": [
             [
              0,
              "#0d0887"
             ],
             [
              0.1111111111111111,
              "#46039f"
             ],
             [
              0.2222222222222222,
              "#7201a8"
             ],
             [
              0.3333333333333333,
              "#9c179e"
             ],
             [
              0.4444444444444444,
              "#bd3786"
             ],
             [
              0.5555555555555556,
              "#d8576b"
             ],
             [
              0.6666666666666666,
              "#ed7953"
             ],
             [
              0.7777777777777778,
              "#fb9f3a"
             ],
             [
              0.8888888888888888,
              "#fdca26"
             ],
             [
              1,
              "#f0f921"
             ]
            ],
            "type": "heatmap"
           }
          ],
          "heatmapgl": [
           {
            "colorbar": {
             "outlinewidth": 0,
             "ticks": ""
            },
            "colorscale": [
             [
              0,
              "#0d0887"
             ],
             [
              0.1111111111111111,
              "#46039f"
             ],
             [
              0.2222222222222222,
              "#7201a8"
             ],
             [
              0.3333333333333333,
              "#9c179e"
             ],
             [
              0.4444444444444444,
              "#bd3786"
             ],
             [
              0.5555555555555556,
              "#d8576b"
             ],
             [
              0.6666666666666666,
              "#ed7953"
             ],
             [
              0.7777777777777778,
              "#fb9f3a"
             ],
             [
              0.8888888888888888,
              "#fdca26"
             ],
             [
              1,
              "#f0f921"
             ]
            ],
            "type": "heatmapgl"
           }
          ],
          "histogram": [
           {
            "marker": {
             "pattern": {
              "fillmode": "overlay",
              "size": 10,
              "solidity": 0.2
             }
            },
            "type": "histogram"
           }
          ],
          "histogram2d": [
           {
            "colorbar": {
             "outlinewidth": 0,
             "ticks": ""
            },
            "colorscale": [
             [
              0,
              "#0d0887"
             ],
             [
              0.1111111111111111,
              "#46039f"
             ],
             [
              0.2222222222222222,
              "#7201a8"
             ],
             [
              0.3333333333333333,
              "#9c179e"
             ],
             [
              0.4444444444444444,
              "#bd3786"
             ],
             [
              0.5555555555555556,
              "#d8576b"
             ],
             [
              0.6666666666666666,
              "#ed7953"
             ],
             [
              0.7777777777777778,
              "#fb9f3a"
             ],
             [
              0.8888888888888888,
              "#fdca26"
             ],
             [
              1,
              "#f0f921"
             ]
            ],
            "type": "histogram2d"
           }
          ],
          "histogram2dcontour": [
           {
            "colorbar": {
             "outlinewidth": 0,
             "ticks": ""
            },
            "colorscale": [
             [
              0,
              "#0d0887"
             ],
             [
              0.1111111111111111,
              "#46039f"
             ],
             [
              0.2222222222222222,
              "#7201a8"
             ],
             [
              0.3333333333333333,
              "#9c179e"
             ],
             [
              0.4444444444444444,
              "#bd3786"
             ],
             [
              0.5555555555555556,
              "#d8576b"
             ],
             [
              0.6666666666666666,
              "#ed7953"
             ],
             [
              0.7777777777777778,
              "#fb9f3a"
             ],
             [
              0.8888888888888888,
              "#fdca26"
             ],
             [
              1,
              "#f0f921"
             ]
            ],
            "type": "histogram2dcontour"
           }
          ],
          "mesh3d": [
           {
            "colorbar": {
             "outlinewidth": 0,
             "ticks": ""
            },
            "type": "mesh3d"
           }
          ],
          "parcoords": [
           {
            "line": {
             "colorbar": {
              "outlinewidth": 0,
              "ticks": ""
             }
            },
            "type": "parcoords"
           }
          ],
          "pie": [
           {
            "automargin": true,
            "type": "pie"
           }
          ],
          "scatter": [
           {
            "fillpattern": {
             "fillmode": "overlay",
             "size": 10,
             "solidity": 0.2
            },
            "type": "scatter"
           }
          ],
          "scatter3d": [
           {
            "line": {
             "colorbar": {
              "outlinewidth": 0,
              "ticks": ""
             }
            },
            "marker": {
             "colorbar": {
              "outlinewidth": 0,
              "ticks": ""
             }
            },
            "type": "scatter3d"
           }
          ],
          "scattercarpet": [
           {
            "marker": {
             "colorbar": {
              "outlinewidth": 0,
              "ticks": ""
             }
            },
            "type": "scattercarpet"
           }
          ],
          "scattergeo": [
           {
            "marker": {
             "colorbar": {
              "outlinewidth": 0,
              "ticks": ""
             }
            },
            "type": "scattergeo"
           }
          ],
          "scattergl": [
           {
            "marker": {
             "colorbar": {
              "outlinewidth": 0,
              "ticks": ""
             }
            },
            "type": "scattergl"
           }
          ],
          "scattermapbox": [
           {
            "marker": {
             "colorbar": {
              "outlinewidth": 0,
              "ticks": ""
             }
            },
            "type": "scattermapbox"
           }
          ],
          "scatterpolar": [
           {
            "marker": {
             "colorbar": {
              "outlinewidth": 0,
              "ticks": ""
             }
            },
            "type": "scatterpolar"
           }
          ],
          "scatterpolargl": [
           {
            "marker": {
             "colorbar": {
              "outlinewidth": 0,
              "ticks": ""
             }
            },
            "type": "scatterpolargl"
           }
          ],
          "scatterternary": [
           {
            "marker": {
             "colorbar": {
              "outlinewidth": 0,
              "ticks": ""
             }
            },
            "type": "scatterternary"
           }
          ],
          "surface": [
           {
            "colorbar": {
             "outlinewidth": 0,
             "ticks": ""
            },
            "colorscale": [
             [
              0,
              "#0d0887"
             ],
             [
              0.1111111111111111,
              "#46039f"
             ],
             [
              0.2222222222222222,
              "#7201a8"
             ],
             [
              0.3333333333333333,
              "#9c179e"
             ],
             [
              0.4444444444444444,
              "#bd3786"
             ],
             [
              0.5555555555555556,
              "#d8576b"
             ],
             [
              0.6666666666666666,
              "#ed7953"
             ],
             [
              0.7777777777777778,
              "#fb9f3a"
             ],
             [
              0.8888888888888888,
              "#fdca26"
             ],
             [
              1,
              "#f0f921"
             ]
            ],
            "type": "surface"
           }
          ],
          "table": [
           {
            "cells": {
             "fill": {
              "color": "#EBF0F8"
             },
             "line": {
              "color": "white"
             }
            },
            "header": {
             "fill": {
              "color": "#C8D4E3"
             },
             "line": {
              "color": "white"
             }
            },
            "type": "table"
           }
          ]
         },
         "layout": {
          "annotationdefaults": {
           "arrowcolor": "#2a3f5f",
           "arrowhead": 0,
           "arrowwidth": 1
          },
          "autotypenumbers": "strict",
          "coloraxis": {
           "colorbar": {
            "outlinewidth": 0,
            "ticks": ""
           }
          },
          "colorscale": {
           "diverging": [
            [
             0,
             "#8e0152"
            ],
            [
             0.1,
             "#c51b7d"
            ],
            [
             0.2,
             "#de77ae"
            ],
            [
             0.3,
             "#f1b6da"
            ],
            [
             0.4,
             "#fde0ef"
            ],
            [
             0.5,
             "#f7f7f7"
            ],
            [
             0.6,
             "#e6f5d0"
            ],
            [
             0.7,
             "#b8e186"
            ],
            [
             0.8,
             "#7fbc41"
            ],
            [
             0.9,
             "#4d9221"
            ],
            [
             1,
             "#276419"
            ]
           ],
           "sequential": [
            [
             0,
             "#0d0887"
            ],
            [
             0.1111111111111111,
             "#46039f"
            ],
            [
             0.2222222222222222,
             "#7201a8"
            ],
            [
             0.3333333333333333,
             "#9c179e"
            ],
            [
             0.4444444444444444,
             "#bd3786"
            ],
            [
             0.5555555555555556,
             "#d8576b"
            ],
            [
             0.6666666666666666,
             "#ed7953"
            ],
            [
             0.7777777777777778,
             "#fb9f3a"
            ],
            [
             0.8888888888888888,
             "#fdca26"
            ],
            [
             1,
             "#f0f921"
            ]
           ],
           "sequentialminus": [
            [
             0,
             "#0d0887"
            ],
            [
             0.1111111111111111,
             "#46039f"
            ],
            [
             0.2222222222222222,
             "#7201a8"
            ],
            [
             0.3333333333333333,
             "#9c179e"
            ],
            [
             0.4444444444444444,
             "#bd3786"
            ],
            [
             0.5555555555555556,
             "#d8576b"
            ],
            [
             0.6666666666666666,
             "#ed7953"
            ],
            [
             0.7777777777777778,
             "#fb9f3a"
            ],
            [
             0.8888888888888888,
             "#fdca26"
            ],
            [
             1,
             "#f0f921"
            ]
           ]
          },
          "colorway": [
           "#636efa",
           "#EF553B",
           "#00cc96",
           "#ab63fa",
           "#FFA15A",
           "#19d3f3",
           "#FF6692",
           "#B6E880",
           "#FF97FF",
           "#FECB52"
          ],
          "font": {
           "color": "#2a3f5f"
          },
          "geo": {
           "bgcolor": "white",
           "lakecolor": "white",
           "landcolor": "#E5ECF6",
           "showlakes": true,
           "showland": true,
           "subunitcolor": "white"
          },
          "hoverlabel": {
           "align": "left"
          },
          "hovermode": "closest",
          "mapbox": {
           "style": "light"
          },
          "paper_bgcolor": "white",
          "plot_bgcolor": "#E5ECF6",
          "polar": {
           "angularaxis": {
            "gridcolor": "white",
            "linecolor": "white",
            "ticks": ""
           },
           "bgcolor": "#E5ECF6",
           "radialaxis": {
            "gridcolor": "white",
            "linecolor": "white",
            "ticks": ""
           }
          },
          "scene": {
           "xaxis": {
            "backgroundcolor": "#E5ECF6",
            "gridcolor": "white",
            "gridwidth": 2,
            "linecolor": "white",
            "showbackground": true,
            "ticks": "",
            "zerolinecolor": "white"
           },
           "yaxis": {
            "backgroundcolor": "#E5ECF6",
            "gridcolor": "white",
            "gridwidth": 2,
            "linecolor": "white",
            "showbackground": true,
            "ticks": "",
            "zerolinecolor": "white"
           },
           "zaxis": {
            "backgroundcolor": "#E5ECF6",
            "gridcolor": "white",
            "gridwidth": 2,
            "linecolor": "white",
            "showbackground": true,
            "ticks": "",
            "zerolinecolor": "white"
           }
          },
          "shapedefaults": {
           "line": {
            "color": "#2a3f5f"
           }
          },
          "ternary": {
           "aaxis": {
            "gridcolor": "white",
            "linecolor": "white",
            "ticks": ""
           },
           "baxis": {
            "gridcolor": "white",
            "linecolor": "white",
            "ticks": ""
           },
           "bgcolor": "#E5ECF6",
           "caxis": {
            "gridcolor": "white",
            "linecolor": "white",
            "ticks": ""
           }
          },
          "title": {
           "x": 0.05
          },
          "xaxis": {
           "automargin": true,
           "gridcolor": "white",
           "linecolor": "white",
           "ticks": "",
           "title": {
            "standoff": 15
           },
           "zerolinecolor": "white",
           "zerolinewidth": 2
          },
          "yaxis": {
           "automargin": true,
           "gridcolor": "white",
           "linecolor": "white",
           "ticks": "",
           "title": {
            "standoff": 15
           },
           "zerolinecolor": "white",
           "zerolinewidth": 2
          }
         }
        },
        "title": {
         "text": "The Double Dealer"
        },
        "updatemenus": [
         {
          "buttons": [
           {
            "args": [
             {
              "visible": [
               true,
               true,
               true,
               true,
               true,
               true,
               true,
               true,
               true,
               true,
               true,
               true,
               true,
               true,
               true
              ]
             },
             {
              "title": "The Double Dealer"
             }
            ],
            "label": "All",
            "method": "update"
           },
           {
            "args": [
             {
              "visible": [
               false,
               false,
               true,
               true,
               false,
               false,
               false,
               false,
               false,
               true,
               true,
               true,
               true,
               false,
               true
              ]
             },
             {
              "title": "The Double Dealer (Men)"
             }
            ],
            "label": "Men",
            "method": "update"
           },
           {
            "args": [
             {
              "visible": [
               false,
               false,
               false,
               false,
               true,
               false,
               true,
               true,
               true,
               false,
               false,
               false,
               false,
               false,
               false
              ]
             },
             {
              "title": "The Double Dealer (Women)"
             }
            ],
            "label": "Women",
            "method": "update"
           },
           {
            "args": [
             {
              "visible": "legendonly"
             },
             {
              "title": "The Double Dealer (Custom)"
             }
            ],
            "label": "Custom",
            "method": "update"
           }
          ],
          "direction": "down",
          "showactive": true,
          "x": 0.01,
          "xanchor": "left",
          "y": 1.1,
          "yanchor": "top"
         }
        ],
        "xaxis": {
         "autorange": true,
         "range": [
          -0.24448897795591185,
          4.244488977955912
         ],
         "title": {
          "text": ""
         },
         "type": "category"
        },
        "yaxis": {
         "autorange": true,
         "range": [
          -9.148640776699029,
          120.00864077669902
         ],
         "title": {
          "text": "Average Speech Length"
         },
         "type": "linear"
        }
       }
      },
      "image/png": "[encoded data removed]",
      "text/html": [
       "<div>                            <div id=\"5621a53b-2831-4d2d-9dc0-abb0e6ea0d60\" class=\"plotly-graph-div\" style=\"height:525px; width:100%;\"></div>            <script type=\"text/javascript\">                require([\"plotly\"], function(Plotly) {                    window.PLOTLYENV=window.PLOTLYENV || {};                                    if (document.getElementById(\"5621a53b-2831-4d2d-9dc0-abb0e6ea0d60\")) {                    Plotly.newPlot(                        \"5621a53b-2831-4d2d-9dc0-abb0e6ea0d60\",                        [{\"mode\":\"lines+markers\",\"name\":\"All\",\"x\":[\"Act 1\",\"Act 2\",\"Act 3\",\"Act 4\",\"Act 5\"],\"y\":[0,0,0,0,4],\"type\":\"scatter\"},{\"mode\":\"lines+markers\",\"name\":\"Boy\",\"x\":[\"Act 1\",\"Act 2\",\"Act 3\",\"Act 4\",\"Act 5\"],\"y\":[0,0,6.5,0,0],\"type\":\"scatter\"},{\"mode\":\"lines+markers\",\"name\":\"Brisk\",\"x\":[\"Act 1\",\"Act 2\",\"Act 3\",\"Act 4\",\"Act 5\"],\"y\":[51.69,19.78,30.07,39.41,18.8],\"type\":\"scatter\"},{\"mode\":\"lines+markers\",\"name\":\"Careless\",\"x\":[\"Act 1\",\"Act 2\",\"Act 3\",\"Act 4\",\"Act 5\"],\"y\":[22.58,0,26.15,26.13,19.17],\"type\":\"scatter\"},{\"mode\":\"lines+markers\",\"name\":\"Cynthia\",\"x\":[\"Act 1\",\"Act 2\",\"Act 3\",\"Act 4\",\"Act 5\"],\"y\":[0,18.3,30.44,25.59,14.37],\"type\":\"scatter\"},{\"mode\":\"lines+markers\",\"name\":\"Footman\",\"x\":[\"Act 1\",\"Act 2\",\"Act 3\",\"Act 4\",\"Act 5\"],\"y\":[0,0,5,0,0],\"type\":\"scatter\"},{\"mode\":\"lines+markers\",\"name\":\"Lady Froth\",\"x\":[\"Act 1\",\"Act 2\",\"Act 3\",\"Act 4\",\"Act 5\"],\"y\":[0,33.82,30.41,19.8,15.67],\"type\":\"scatter\"},{\"mode\":\"lines+markers\",\"name\":\"Lady Plyant\",\"x\":[\"Act 1\",\"Act 2\",\"Act 3\",\"Act 4\",\"Act 5\"],\"y\":[0,53.81,36.36,38.61,18.5],\"type\":\"scatter\"},{\"mode\":\"lines+markers\",\"name\":\"Lady Touchwood\",\"x\":[\"Act 1\",\"Act 2\",\"Act 3\",\"Act 4\",\"Act 5\"],\"y\":[34.06,0,33.86,28.38,33.96],\"type\":\"scatter\"},{\"mode\":\"lines+markers\",\"name\":\"Lord Froth\",\"x\":[\"Act 1\",\"Act 2\",\"Act 3\",\"Act 4\",\"Act 5\"],\"y\":[30,16.7,31.4,12.25,12.5],\"type\":\"scatter\"},{\"mode\":\"lines+markers\",\"name\":\"Lord Touchwood\",\"x\":[\"Act 1\",\"Act 2\",\"Act 3\",\"Act 4\",\"Act 5\"],\"y\":[22,0,18.91,21.25,27.11],\"type\":\"scatter\"},{\"mode\":\"lines+markers\",\"name\":\"Mellefont\",\"x\":[\"Act 1\",\"Act 2\",\"Act 3\",\"Act 4\",\"Act 5\"],\"y\":[42.92,23.86,32.17,23.17,15.22],\"type\":\"scatter\"},{\"mode\":\"lines+markers\",\"name\":\"Maskwell\",\"x\":[\"Act 1\",\"Act 2\",\"Act 3\",\"Act 4\",\"Act 5\"],\"y\":[45.88,110.86,46.71,26.05,39.62],\"type\":\"scatter\"},{\"mode\":\"lines+markers\",\"name\":\"Mr. Saygrace\",\"x\":[\"Act 1\",\"Act 2\",\"Act 3\",\"Act 4\",\"Act 5\"],\"y\":[0,0,0,0,17.33],\"type\":\"scatter\"},{\"mode\":\"lines+markers\",\"name\":\"Sir Paul Plyant\",\"x\":[\"Act 1\",\"Act 2\",\"Act 3\",\"Act 4\",\"Act 5\"],\"y\":[52,42.15,37.09,50.32,22.69],\"type\":\"scatter\"}],                        {\"template\":{\"data\":{\"histogram2dcontour\":[{\"type\":\"histogram2dcontour\",\"colorbar\":{\"outlinewidth\":0,\"ticks\":\"\"},\"colorscale\":[[0.0,\"#0d0887\"],[0.1111111111111111,\"#46039f\"],[0.2222222222222222,\"#7201a8\"],[0.3333333333333333,\"#9c179e\"],[0.4444444444444444,\"#bd3786\"],[0.5555555555555556,\"#d8576b\"],[0.6666666666666666,\"#ed7953\"],[0.7777777777777778,\"#fb9f3a\"],[0.8888888888888888,\"#fdca26\"],[1.0,\"#f0f921\"]]}],\"choropleth\":[{\"type\":\"choropleth\",\"colorbar\":{\"outlinewidth\":0,\"ticks\":\"\"}}],\"histogram2d\":[{\"type\":\"histogram2d\",\"colorbar\":{\"outlinewidth\":0,\"ticks\":\"\"},\"colorscale\":[[0.0,\"#0d0887\"],[0.1111111111111111,\"#46039f\"],[0.2222222222222222,\"#7201a8\"],[0.3333333333333333,\"#9c179e\"],[0.4444444444444444,\"#bd3786\"],[0.5555555555555556,\"#d8576b\"],[0.6666666666666666,\"#ed7953\"],[0.7777777777777778,\"#fb9f3a\"],[0.8888888888888888,\"#fdca26\"],[1.0,\"#f0f921\"]]}],\"heatmap\":[{\"type\":\"heatmap\",\"colorbar\":{\"outlinewidth\":0,\"ticks\":\"\"},\"colorscale\":[[0.0,\"#0d0887\"],[0.1111111111111111,\"#46039f\"],[0.2222222222222222,\"#7201a8\"],[0.3333333333333333,\"#9c179e\"],[0.4444444444444444,\"#bd3786\"],[0.5555555555555556,\"#d8576b\"],[0.6666666666666666,\"#ed7953\"],[0.7777777777777778,\"#fb9f3a\"],[0.8888888888888888,\"#fdca26\"],[1.0,\"#f0f921\"]]}],\"heatmapgl\":[{\"type\":\"heatmapgl\",\"colorbar\":{\"outlinewidth\":0,\"ticks\":\"\"},\"colorscale\":[[0.0,\"#0d0887\"],[0.1111111111111111,\"#46039f\"],[0.2222222222222222,\"#7201a8\"],[0.3333333333333333,\"#9c179e\"],[0.4444444444444444,\"#bd3786\"],[0.5555555555555556,\"#d8576b\"],[0.6666666666666666,\"#ed7953\"],[0.7777777777777778,\"#fb9f3a\"],[0.8888888888888888,\"#fdca26\"],[1.0,\"#f0f921\"]]}],\"contourcarpet\":[{\"type\":\"contourcarpet\",\"colorbar\":{\"outlinewidth\":0,\"ticks\":\"\"}}],\"contour\":[{\"type\":\"contour\",\"colorbar\":{\"outlinewidth\":0,\"ticks\":\"\"},\"colorscale\":[[0.0,\"#0d0887\"],[0.1111111111111111,\"#46039f\"],[0.2222222222222222,\"#7201a8\"],[0.3333333333333333,\"#9c179e\"],[0.4444444444444444,\"#bd3786\"],[0.5555555555555556,\"#d8576b\"],[0.6666666666666666,\"#ed7953\"],[0.7777777777777778,\"#fb9f3a\"],[0.8888888888888888,\"#fdca26\"],[1.0,\"#f0f921\"]]}],\"surface\":[{\"type\":\"surface\",\"colorbar\":{\"outlinewidth\":0,\"ticks\":\"\"},\"colorscale\":[[0.0,\"#0d0887\"],[0.1111111111111111,\"#46039f\"],[0.2222222222222222,\"#7201a8\"],[0.3333333333333333,\"#9c179e\"],[0.4444444444444444,\"#bd3786\"],[0.5555555555555556,\"#d8576b\"],[0.6666666666666666,\"#ed7953\"],[0.7777777777777778,\"#fb9f3a\"],[0.8888888888888888,\"#fdca26\"],[1.0,\"#f0f921\"]]}],\"mesh3d\":[{\"type\":\"mesh3d\",\"colorbar\":{\"outlinewidth\":0,\"ticks\":\"\"}}],\"scatter\":[{\"fillpattern\":{\"fillmode\":\"overlay\",\"size\":10,\"solidity\":0.2},\"type\":\"scatter\"}],\"parcoords\":[{\"type\":\"parcoords\",\"line\":{\"colorbar\":{\"outlinewidth\":0,\"ticks\":\"\"}}}],\"scatterpolargl\":[{\"type\":\"scatterpolargl\",\"marker\":{\"colorbar\":{\"outlinewidth\":0,\"ticks\":\"\"}}}],\"bar\":[{\"error_x\":{\"color\":\"#2a3f5f\"},\"error_y\":{\"color\":\"#2a3f5f\"},\"marker\":{\"line\":{\"color\":\"#E5ECF6\",\"width\":0.5},\"pattern\":{\"fillmode\":\"overlay\",\"size\":10,\"solidity\":0.2}},\"type\":\"bar\"}],\"scattergeo\":[{\"type\":\"scattergeo\",\"marker\":{\"colorbar\":{\"outlinewidth\":0,\"ticks\":\"\"}}}],\"scatterpolar\":[{\"type\":\"scatterpolar\",\"marker\":{\"colorbar\":{\"outlinewidth\":0,\"ticks\":\"\"}}}],\"histogram\":[{\"marker\":{\"pattern\":{\"fillmode\":\"overlay\",\"size\":10,\"solidity\":0.2}},\"type\":\"histogram\"}],\"scattergl\":[{\"type\":\"scattergl\",\"marker\":{\"colorbar\":{\"outlinewidth\":0,\"ticks\":\"\"}}}],\"scatter3d\":[{\"type\":\"scatter3d\",\"line\":{\"colorbar\":{\"outlinewidth\":0,\"ticks\":\"\"}},\"marker\":{\"colorbar\":{\"outlinewidth\":0,\"ticks\":\"\"}}}],\"scattermapbox\":[{\"type\":\"scattermapbox\",\"marker\":{\"colorbar\":{\"outlinewidth\":0,\"ticks\":\"\"}}}],\"scatterternary\":[{\"type\":\"scatterternary\",\"marker\":{\"colorbar\":{\"outlinewidth\":0,\"ticks\":\"\"}}}],\"scattercarpet\":[{\"type\":\"scattercarpet\",\"marker\":{\"colorbar\":{\"outlinewidth\":0,\"ticks\":\"\"}}}],\"carpet\":[{\"aaxis\":{\"endlinecolor\":\"#2a3f5f\",\"gridcolor\":\"white\",\"linecolor\":\"white\",\"minorgridcolor\":\"white\",\"startlinecolor\":\"#2a3f5f\"},\"baxis\":{\"endlinecolor\":\"#2a3f5f\",\"gridcolor\":\"white\",\"linecolor\":\"white\",\"minorgridcolor\":\"white\",\"startlinecolor\":\"#2a3f5f\"},\"type\":\"carpet\"}],\"table\":[{\"cells\":{\"fill\":{\"color\":\"#EBF0F8\"},\"line\":{\"color\":\"white\"}},\"header\":{\"fill\":{\"color\":\"#C8D4E3\"},\"line\":{\"color\":\"white\"}},\"type\":\"table\"}],\"barpolar\":[{\"marker\":{\"line\":{\"color\":\"#E5ECF6\",\"width\":0.5},\"pattern\":{\"fillmode\":\"overlay\",\"size\":10,\"solidity\":0.2}},\"type\":\"barpolar\"}],\"pie\":[{\"automargin\":true,\"type\":\"pie\"}]},\"layout\":{\"autotypenumbers\":\"strict\",\"colorway\":[\"#636efa\",\"#EF553B\",\"#00cc96\",\"#ab63fa\",\"#FFA15A\",\"#19d3f3\",\"#FF6692\",\"#B6E880\",\"#FF97FF\",\"#FECB52\"],\"font\":{\"color\":\"#2a3f5f\"},\"hovermode\":\"closest\",\"hoverlabel\":{\"align\":\"left\"},\"paper_bgcolor\":\"white\",\"plot_bgcolor\":\"#E5ECF6\",\"polar\":{\"bgcolor\":\"#E5ECF6\",\"angularaxis\":{\"gridcolor\":\"white\",\"linecolor\":\"white\",\"ticks\":\"\"},\"radialaxis\":{\"gridcolor\":\"white\",\"linecolor\":\"white\",\"ticks\":\"\"}},\"ternary\":{\"bgcolor\":\"#E5ECF6\",\"aaxis\":{\"gridcolor\":\"white\",\"linecolor\":\"white\",\"ticks\":\"\"},\"baxis\":{\"gridcolor\":\"white\",\"linecolor\":\"white\",\"ticks\":\"\"},\"caxis\":{\"gridcolor\":\"white\",\"linecolor\":\"white\",\"ticks\":\"\"}},\"coloraxis\":{\"colorbar\":{\"outlinewidth\":0,\"ticks\":\"\"}},\"colorscale\":{\"sequential\":[[0.0,\"#0d0887\"],[0.1111111111111111,\"#46039f\"],[0.2222222222222222,\"#7201a8\"],[0.3333333333333333,\"#9c179e\"],[0.4444444444444444,\"#bd3786\"],[0.5555555555555556,\"#d8576b\"],[0.6666666666666666,\"#ed7953\"],[0.7777777777777778,\"#fb9f3a\"],[0.8888888888888888,\"#fdca26\"],[1.0,\"#f0f921\"]],\"sequentialminus\":[[0.0,\"#0d0887\"],[0.1111111111111111,\"#46039f\"],[0.2222222222222222,\"#7201a8\"],[0.3333333333333333,\"#9c179e\"],[0.4444444444444444,\"#bd3786\"],[0.5555555555555556,\"#d8576b\"],[0.6666666666666666,\"#ed7953\"],[0.7777777777777778,\"#fb9f3a\"],[0.8888888888888888,\"#fdca26\"],[1.0,\"#f0f921\"]],\"diverging\":[[0,\"#8e0152\"],[0.1,\"#c51b7d\"],[0.2,\"#de77ae\"],[0.3,\"#f1b6da\"],[0.4,\"#fde0ef\"],[0.5,\"#f7f7f7\"],[0.6,\"#e6f5d0\"],[0.7,\"#b8e186\"],[0.8,\"#7fbc41\"],[0.9,\"#4d9221\"],[1,\"#276419\"]]},\"xaxis\":{\"gridcolor\":\"white\",\"linecolor\":\"white\",\"ticks\":\"\",\"title\":{\"standoff\":15},\"zerolinecolor\":\"white\",\"automargin\":true,\"zerolinewidth\":2},\"yaxis\":{\"gridcolor\":\"white\",\"linecolor\":\"white\",\"ticks\":\"\",\"title\":{\"standoff\":15},\"zerolinecolor\":\"white\",\"automargin\":true,\"zerolinewidth\":2},\"scene\":{\"xaxis\":{\"backgroundcolor\":\"#E5ECF6\",\"gridcolor\":\"white\",\"linecolor\":\"white\",\"showbackground\":true,\"ticks\":\"\",\"zerolinecolor\":\"white\",\"gridwidth\":2},\"yaxis\":{\"backgroundcolor\":\"#E5ECF6\",\"gridcolor\":\"white\",\"linecolor\":\"white\",\"showbackground\":true,\"ticks\":\"\",\"zerolinecolor\":\"white\",\"gridwidth\":2},\"zaxis\":{\"backgroundcolor\":\"#E5ECF6\",\"gridcolor\":\"white\",\"linecolor\":\"white\",\"showbackground\":true,\"ticks\":\"\",\"zerolinecolor\":\"white\",\"gridwidth\":2}},\"shapedefaults\":{\"line\":{\"color\":\"#2a3f5f\"}},\"annotationdefaults\":{\"arrowcolor\":\"#2a3f5f\",\"arrowhead\":0,\"arrowwidth\":1},\"geo\":{\"bgcolor\":\"white\",\"landcolor\":\"#E5ECF6\",\"subunitcolor\":\"white\",\"showland\":true,\"showlakes\":true,\"lakecolor\":\"white\"},\"title\":{\"x\":0.05},\"mapbox\":{\"style\":\"light\"}}},\"updatemenus\":[{\"buttons\":[{\"args\":[{\"visible\":[true,true,true,true,true,true,true,true,true,true,true,true,true,true,true]},{\"title\":\"The Double Dealer\"}],\"label\":\"All\",\"method\":\"update\"},{\"args\":[{\"visible\":[false,false,true,true,false,false,false,false,false,true,true,true,true,false,true]},{\"title\":\"The Double Dealer (Men)\"}],\"label\":\"Men\",\"method\":\"update\"},{\"args\":[{\"visible\":[false,false,false,false,true,false,true,true,true,false,false,false,false,false,false]},{\"title\":\"The Double Dealer (Women)\"}],\"label\":\"Women\",\"method\":\"update\"},{\"args\":[{\"visible\":\"legendonly\"},{\"title\":\"The Double Dealer (Custom)\"}],\"label\":\"Custom\",\"method\":\"update\"}],\"direction\":\"down\",\"showactive\":true,\"x\":0.01,\"xanchor\":\"left\",\"y\":1.1,\"yanchor\":\"top\"}],\"title\":{\"text\":\"The Double Dealer\"},\"xaxis\":{\"title\":{\"text\":\"\"}},\"yaxis\":{\"title\":{\"text\":\"Average Speech Length\"}}},                        {\"responsive\": true}                    ).then(function(){\n",
       "                            \n",
       "var gd = document.getElementById('5621a53b-2831-4d2d-9dc0-abb0e6ea0d60');\n",
       "var x = new MutationObserver(function (mutations, observer) {{\n",
       "        var display = window.getComputedStyle(gd).display;\n",
       "        if (!display || display === 'none') {{\n",
       "            console.log([gd, 'removed!']);\n",
       "            Plotly.purge(gd);\n",
       "            observer.disconnect();\n",
       "        }}\n",
       "}});\n",
       "\n",
       "// Listen for the removal of the full notebook cells\n",
       "var notebookContainer = gd.closest('#notebook-container');\n",
       "if (notebookContainer) {{\n",
       "    x.observe(notebookContainer, {childList: true});\n",
       "}}\n",
       "\n",
       "// Listen for the clearing of the current output cell\n",
       "var outputEl = gd.closest('.output');\n",
       "if (outputEl) {{\n",
       "    x.observe(outputEl, {childList: true});\n",
       "}}\n",
       "\n",
       "                        })                };                });            </script>        </div>"
      ]
     },
     "metadata": {},
     "output_type": "display_data"
    },
    {
     "data": {
      "application/vnd.plotly.v1+json": {
       "config": {
        "plotlyServerURL": "https://plot.ly",
        "responsive": true
       },
       "data": [
        {
         "mode": "lines+markers",
         "name": "Angelica",
         "type": "scatter",
         "x": [
          "Act 1",
          "Act 2",
          "Act 3",
          "Act 4",
          "Act 5"
         ],
         "y": [
          0,
          50.75,
          19.92,
          33.3,
          35.97
         ]
        },
        {
         "mode": "lines+markers",
         "name": "Ben",
         "type": "scatter",
         "x": [
          "Act 1",
          "Act 2",
          "Act 3",
          "Act 4",
          "Act 5"
         ],
         "y": [
          0,
          0,
          52.15,
          63.08,
          36.67
         ]
        },
        {
         "mode": "lines+markers",
         "name": "Buckram",
         "type": "scatter",
         "x": [
          "Act 1",
          "Act 2",
          "Act 3",
          "Act 4",
          "Act 5"
         ],
         "y": [
          0,
          0,
          0,
          22.5,
          12
         ]
        },
        {
         "mode": "lines+markers",
         "name": "Foresight",
         "type": "scatter",
         "x": [
          "Act 1",
          "Act 2",
          "Act 3",
          "Act 4",
          "Act 5"
         ],
         "y": [
          0,
          41.8,
          18.33,
          17.62,
          19.52
         ]
        },
        {
         "mode": "lines+markers",
         "name": "Jenny",
         "type": "scatter",
         "x": [
          "Act 1",
          "Act 2",
          "Act 3",
          "Act 4",
          "Act 5"
         ],
         "y": [
          0,
          0,
          0,
          12,
          11.5
         ]
        },
        {
         "mode": "lines+markers",
         "name": "Jeremy",
         "type": "scatter",
         "x": [
          "Act 1",
          "Act 2",
          "Act 3",
          "Act 4",
          "Act 5"
         ],
         "y": [
          41.52,
          28.43,
          0,
          24.63,
          45.56
         ]
        },
        {
         "mode": "lines+markers",
         "name": "Miss Prue",
         "type": "scatter",
         "x": [
          "Act 1",
          "Act 2",
          "Act 3",
          "Act 4",
          "Act 5"
         ],
         "y": [
          0,
          19.38,
          33.8,
          0,
          34.18
         ]
        },
        {
         "mode": "lines+markers",
         "name": "Mrs. Foresight",
         "type": "scatter",
         "x": [
          "Act 1",
          "Act 2",
          "Act 3",
          "Act 4",
          "Act 5"
         ],
         "y": [
          0,
          29.56,
          16.52,
          25,
          8.73
         ]
        },
        {
         "mode": "lines+markers",
         "name": "Mrs. Frail",
         "type": "scatter",
         "x": [
          "Act 1",
          "Act 2",
          "Act 3",
          "Act 4",
          "Act 5"
         ],
         "y": [
          23.04,
          29.09,
          18.64,
          24.5,
          17.8
         ]
        },
        {
         "mode": "lines+markers",
         "name": "Nurse",
         "type": "scatter",
         "x": [
          "Act 1",
          "Act 2",
          "Act 3",
          "Act 4",
          "Act 5"
         ],
         "y": [
          0,
          42.33,
          75,
          0,
          6
         ]
        },
        {
         "mode": "lines+markers",
         "name": "Officer",
         "type": "scatter",
         "x": [
          "Act 1",
          "Act 2",
          "Act 3",
          "Act 4",
          "Act 5"
         ],
         "y": [
          60,
          0,
          0,
          0,
          0
         ]
        },
        {
         "mode": "lines+markers",
         "name": "Scandal",
         "type": "scatter",
         "x": [
          "Act 1",
          "Act 2",
          "Act 3",
          "Act 4",
          "Act 5"
         ],
         "y": [
          28.44,
          0,
          29.67,
          23.43,
          19.55
         ]
        },
        {
         "mode": "lines+markers",
         "name": "Servant",
         "type": "scatter",
         "x": [
          "Act 1",
          "Act 2",
          "Act 3",
          "Act 4",
          "Act 5"
         ],
         "y": [
          0,
          5.4,
          9,
          0,
          0
         ]
        },
        {
         "mode": "lines+markers",
         "name": "Sir Sampson Legend",
         "type": "scatter",
         "x": [
          "Act 1",
          "Act 2",
          "Act 3",
          "Act 4",
          "Act 5"
         ],
         "y": [
          0,
          57.11,
          41.87,
          34.67,
          46.74
         ]
        },
        {
         "mode": "lines+markers",
         "name": "Tattle",
         "type": "scatter",
         "x": [
          "Act 1",
          "Act 2",
          "Act 3",
          "Act 4",
          "Act 5"
         ],
         "y": [
          22.73,
          24.24,
          38.96,
          26.42,
          33.03
         ]
        },
        {
         "mode": "lines+markers",
         "name": "Trapland",
         "type": "scatter",
         "x": [
          "Act 1",
          "Act 2",
          "Act 3",
          "Act 4",
          "Act 5"
         ],
         "y": [
          15.56,
          0,
          0,
          0,
          0
         ]
        },
        {
         "mode": "lines+markers",
         "name": "Valentine",
         "type": "scatter",
         "x": [
          "Act 1",
          "Act 2",
          "Act 3",
          "Act 4",
          "Act 5"
         ],
         "y": [
          25.81,
          27.86,
          21.64,
          39.46,
          20.89
         ]
        }
       ],
       "layout": {
        "autosize": true,
        "template": {
         "data": {
          "bar": [
           {
            "error_x": {
             "color": "#2a3f5f"
            },
            "error_y": {
             "color": "#2a3f5f"
            },
            "marker": {
             "line": {
              "color": "#E5ECF6",
              "width": 0.5
             },
             "pattern": {
              "fillmode": "overlay",
              "size": 10,
              "solidity": 0.2
             }
            },
            "type": "bar"
           }
          ],
          "barpolar": [
           {
            "marker": {
             "line": {
              "color": "#E5ECF6",
              "width": 0.5
             },
             "pattern": {
              "fillmode": "overlay",
              "size": 10,
              "solidity": 0.2
             }
            },
            "type": "barpolar"
           }
          ],
          "carpet": [
           {
            "aaxis": {
             "endlinecolor": "#2a3f5f",
             "gridcolor": "white",
             "linecolor": "white",
             "minorgridcolor": "white",
             "startlinecolor": "#2a3f5f"
            },
            "baxis": {
             "endlinecolor": "#2a3f5f",
             "gridcolor": "white",
             "linecolor": "white",
             "minorgridcolor": "white",
             "startlinecolor": "#2a3f5f"
            },
            "type": "carpet"
           }
          ],
          "choropleth": [
           {
            "colorbar": {
             "outlinewidth": 0,
             "ticks": ""
            },
            "type": "choropleth"
           }
          ],
          "contour": [
           {
            "colorbar": {
             "outlinewidth": 0,
             "ticks": ""
            },
            "colorscale": [
             [
              0,
              "#0d0887"
             ],
             [
              0.1111111111111111,
              "#46039f"
             ],
             [
              0.2222222222222222,
              "#7201a8"
             ],
             [
              0.3333333333333333,
              "#9c179e"
             ],
             [
              0.4444444444444444,
              "#bd3786"
             ],
             [
              0.5555555555555556,
              "#d8576b"
             ],
             [
              0.6666666666666666,
              "#ed7953"
             ],
             [
              0.7777777777777778,
              "#fb9f3a"
             ],
             [
              0.8888888888888888,
              "#fdca26"
             ],
             [
              1,
              "#f0f921"
             ]
            ],
            "type": "contour"
           }
          ],
          "contourcarpet": [
           {
            "colorbar": {
             "outlinewidth": 0,
             "ticks": ""
            },
            "type": "contourcarpet"
           }
          ],
          "heatmap": [
           {
            "colorbar": {
             "outlinewidth": 0,
             "ticks": ""
            },
            "colorscale": [
             [
              0,
              "#0d0887"
             ],
             [
              0.1111111111111111,
              "#46039f"
             ],
             [
              0.2222222222222222,
              "#7201a8"
             ],
             [
              0.3333333333333333,
              "#9c179e"
             ],
             [
              0.4444444444444444,
              "#bd3786"
             ],
             [
              0.5555555555555556,
              "#d8576b"
             ],
             [
              0.6666666666666666,
              "#ed7953"
             ],
             [
              0.7777777777777778,
              "#fb9f3a"
             ],
             [
              0.8888888888888888,
              "#fdca26"
             ],
             [
              1,
              "#f0f921"
             ]
            ],
            "type": "heatmap"
           }
          ],
          "heatmapgl": [
           {
            "colorbar": {
             "outlinewidth": 0,
             "ticks": ""
            },
            "colorscale": [
             [
              0,
              "#0d0887"
             ],
             [
              0.1111111111111111,
              "#46039f"
             ],
             [
              0.2222222222222222,
              "#7201a8"
             ],
             [
              0.3333333333333333,
              "#9c179e"
             ],
             [
              0.4444444444444444,
              "#bd3786"
             ],
             [
              0.5555555555555556,
              "#d8576b"
             ],
             [
              0.6666666666666666,
              "#ed7953"
             ],
             [
              0.7777777777777778,
              "#fb9f3a"
             ],
             [
              0.8888888888888888,
              "#fdca26"
             ],
             [
              1,
              "#f0f921"
             ]
            ],
            "type": "heatmapgl"
           }
          ],
          "histogram": [
           {
            "marker": {
             "pattern": {
              "fillmode": "overlay",
              "size": 10,
              "solidity": 0.2
             }
            },
            "type": "histogram"
           }
          ],
          "histogram2d": [
           {
            "colorbar": {
             "outlinewidth": 0,
             "ticks": ""
            },
            "colorscale": [
             [
              0,
              "#0d0887"
             ],
             [
              0.1111111111111111,
              "#46039f"
             ],
             [
              0.2222222222222222,
              "#7201a8"
             ],
             [
              0.3333333333333333,
              "#9c179e"
             ],
             [
              0.4444444444444444,
              "#bd3786"
             ],
             [
              0.5555555555555556,
              "#d8576b"
             ],
             [
              0.6666666666666666,
              "#ed7953"
             ],
             [
              0.7777777777777778,
              "#fb9f3a"
             ],
             [
              0.8888888888888888,
              "#fdca26"
             ],
             [
              1,
              "#f0f921"
             ]
            ],
            "type": "histogram2d"
           }
          ],
          "histogram2dcontour": [
           {
            "colorbar": {
             "outlinewidth": 0,
             "ticks": ""
            },
            "colorscale": [
             [
              0,
              "#0d0887"
             ],
             [
              0.1111111111111111,
              "#46039f"
             ],
             [
              0.2222222222222222,
              "#7201a8"
             ],
             [
              0.3333333333333333,
              "#9c179e"
             ],
             [
              0.4444444444444444,
              "#bd3786"
             ],
             [
              0.5555555555555556,
              "#d8576b"
             ],
             [
              0.6666666666666666,
              "#ed7953"
             ],
             [
              0.7777777777777778,
              "#fb9f3a"
             ],
             [
              0.8888888888888888,
              "#fdca26"
             ],
             [
              1,
              "#f0f921"
             ]
            ],
            "type": "histogram2dcontour"
           }
          ],
          "mesh3d": [
           {
            "colorbar": {
             "outlinewidth": 0,
             "ticks": ""
            },
            "type": "mesh3d"
           }
          ],
          "parcoords": [
           {
            "line": {
             "colorbar": {
              "outlinewidth": 0,
              "ticks": ""
             }
            },
            "type": "parcoords"
           }
          ],
          "pie": [
           {
            "automargin": true,
            "type": "pie"
           }
          ],
          "scatter": [
           {
            "fillpattern": {
             "fillmode": "overlay",
             "size": 10,
             "solidity": 0.2
            },
            "type": "scatter"
           }
          ],
          "scatter3d": [
           {
            "line": {
             "colorbar": {
              "outlinewidth": 0,
              "ticks": ""
             }
            },
            "marker": {
             "colorbar": {
              "outlinewidth": 0,
              "ticks": ""
             }
            },
            "type": "scatter3d"
           }
          ],
          "scattercarpet": [
           {
            "marker": {
             "colorbar": {
              "outlinewidth": 0,
              "ticks": ""
             }
            },
            "type": "scattercarpet"
           }
          ],
          "scattergeo": [
           {
            "marker": {
             "colorbar": {
              "outlinewidth": 0,
              "ticks": ""
             }
            },
            "type": "scattergeo"
           }
          ],
          "scattergl": [
           {
            "marker": {
             "colorbar": {
              "outlinewidth": 0,
              "ticks": ""
             }
            },
            "type": "scattergl"
           }
          ],
          "scattermapbox": [
           {
            "marker": {
             "colorbar": {
              "outlinewidth": 0,
              "ticks": ""
             }
            },
            "type": "scattermapbox"
           }
          ],
          "scatterpolar": [
           {
            "marker": {
             "colorbar": {
              "outlinewidth": 0,
              "ticks": ""
             }
            },
            "type": "scatterpolar"
           }
          ],
          "scatterpolargl": [
           {
            "marker": {
             "colorbar": {
              "outlinewidth": 0,
              "ticks": ""
             }
            },
            "type": "scatterpolargl"
           }
          ],
          "scatterternary": [
           {
            "marker": {
             "colorbar": {
              "outlinewidth": 0,
              "ticks": ""
             }
            },
            "type": "scatterternary"
           }
          ],
          "surface": [
           {
            "colorbar": {
             "outlinewidth": 0,
             "ticks": ""
            },
            "colorscale": [
             [
              0,
              "#0d0887"
             ],
             [
              0.1111111111111111,
              "#46039f"
             ],
             [
              0.2222222222222222,
              "#7201a8"
             ],
             [
              0.3333333333333333,
              "#9c179e"
             ],
             [
              0.4444444444444444,
              "#bd3786"
             ],
             [
              0.5555555555555556,
              "#d8576b"
             ],
             [
              0.6666666666666666,
              "#ed7953"
             ],
             [
              0.7777777777777778,
              "#fb9f3a"
             ],
             [
              0.8888888888888888,
              "#fdca26"
             ],
             [
              1,
              "#f0f921"
             ]
            ],
            "type": "surface"
           }
          ],
          "table": [
           {
            "cells": {
             "fill": {
              "color": "#EBF0F8"
             },
             "line": {
              "color": "white"
             }
            },
            "header": {
             "fill": {
              "color": "#C8D4E3"
             },
             "line": {
              "color": "white"
             }
            },
            "type": "table"
           }
          ]
         },
         "layout": {
          "annotationdefaults": {
           "arrowcolor": "#2a3f5f",
           "arrowhead": 0,
           "arrowwidth": 1
          },
          "autotypenumbers": "strict",
          "coloraxis": {
           "colorbar": {
            "outlinewidth": 0,
            "ticks": ""
           }
          },
          "colorscale": {
           "diverging": [
            [
             0,
             "#8e0152"
            ],
            [
             0.1,
             "#c51b7d"
            ],
            [
             0.2,
             "#de77ae"
            ],
            [
             0.3,
             "#f1b6da"
            ],
            [
             0.4,
             "#fde0ef"
            ],
            [
             0.5,
             "#f7f7f7"
            ],
            [
             0.6,
             "#e6f5d0"
            ],
            [
             0.7,
             "#b8e186"
            ],
            [
             0.8,
             "#7fbc41"
            ],
            [
             0.9,
             "#4d9221"
            ],
            [
             1,
             "#276419"
            ]
           ],
           "sequential": [
            [
             0,
             "#0d0887"
            ],
            [
             0.1111111111111111,
             "#46039f"
            ],
            [
             0.2222222222222222,
             "#7201a8"
            ],
            [
             0.3333333333333333,
             "#9c179e"
            ],
            [
             0.4444444444444444,
             "#bd3786"
            ],
            [
             0.5555555555555556,
             "#d8576b"
            ],
            [
             0.6666666666666666,
             "#ed7953"
            ],
            [
             0.7777777777777778,
             "#fb9f3a"
            ],
            [
             0.8888888888888888,
             "#fdca26"
            ],
            [
             1,
             "#f0f921"
            ]
           ],
           "sequentialminus": [
            [
             0,
             "#0d0887"
            ],
            [
             0.1111111111111111,
             "#46039f"
            ],
            [
             0.2222222222222222,
             "#7201a8"
            ],
            [
             0.3333333333333333,
             "#9c179e"
            ],
            [
             0.4444444444444444,
             "#bd3786"
            ],
            [
             0.5555555555555556,
             "#d8576b"
            ],
            [
             0.6666666666666666,
             "#ed7953"
            ],
            [
             0.7777777777777778,
             "#fb9f3a"
            ],
            [
             0.8888888888888888,
             "#fdca26"
            ],
            [
             1,
             "#f0f921"
            ]
           ]
          },
          "colorway": [
           "#636efa",
           "#EF553B",
           "#00cc96",
           "#ab63fa",
           "#FFA15A",
           "#19d3f3",
           "#FF6692",
           "#B6E880",
           "#FF97FF",
           "#FECB52"
          ],
          "font": {
           "color": "#2a3f5f"
          },
          "geo": {
           "bgcolor": "white",
           "lakecolor": "white",
           "landcolor": "#E5ECF6",
           "showlakes": true,
           "showland": true,
           "subunitcolor": "white"
          },
          "hoverlabel": {
           "align": "left"
          },
          "hovermode": "closest",
          "mapbox": {
           "style": "light"
          },
          "paper_bgcolor": "white",
          "plot_bgcolor": "#E5ECF6",
          "polar": {
           "angularaxis": {
            "gridcolor": "white",
            "linecolor": "white",
            "ticks": ""
           },
           "bgcolor": "#E5ECF6",
           "radialaxis": {
            "gridcolor": "white",
            "linecolor": "white",
            "ticks": ""
           }
          },
          "scene": {
           "xaxis": {
            "backgroundcolor": "#E5ECF6",
            "gridcolor": "white",
            "gridwidth": 2,
            "linecolor": "white",
            "showbackground": true,
            "ticks": "",
            "zerolinecolor": "white"
           },
           "yaxis": {
            "backgroundcolor": "#E5ECF6",
            "gridcolor": "white",
            "gridwidth": 2,
            "linecolor": "white",
            "showbackground": true,
            "ticks": "",
            "zerolinecolor": "white"
           },
           "zaxis": {
            "backgroundcolor": "#E5ECF6",
            "gridcolor": "white",
            "gridwidth": 2,
            "linecolor": "white",
            "showbackground": true,
            "ticks": "",
            "zerolinecolor": "white"
           }
          },
          "shapedefaults": {
           "line": {
            "color": "#2a3f5f"
           }
          },
          "ternary": {
           "aaxis": {
            "gridcolor": "white",
            "linecolor": "white",
            "ticks": ""
           },
           "baxis": {
            "gridcolor": "white",
            "linecolor": "white",
            "ticks": ""
           },
           "bgcolor": "#E5ECF6",
           "caxis": {
            "gridcolor": "white",
            "linecolor": "white",
            "ticks": ""
           }
          },
          "title": {
           "x": 0.05
          },
          "xaxis": {
           "automargin": true,
           "gridcolor": "white",
           "linecolor": "white",
           "ticks": "",
           "title": {
            "standoff": 15
           },
           "zerolinecolor": "white",
           "zerolinewidth": 2
          },
          "yaxis": {
           "automargin": true,
           "gridcolor": "white",
           "linecolor": "white",
           "ticks": "",
           "title": {
            "standoff": 15
           },
           "zerolinecolor": "white",
           "zerolinewidth": 2
          }
         }
        },
        "title": {
         "text": "Love for Love"
        },
        "updatemenus": [
         {
          "buttons": [
           {
            "args": [
             {
              "visible": [
               true,
               true,
               true,
               true,
               true,
               true,
               true,
               true,
               true,
               true,
               true,
               true,
               true,
               true,
               true,
               true,
               true
              ]
             },
             {
              "title": "Love for Love"
             }
            ],
            "label": "All",
            "method": "update"
           },
           {
            "args": [
             {
              "visible": [
               false,
               true,
               true,
               true,
               false,
               true,
               false,
               false,
               false,
               false,
               false,
               true,
               false,
               true,
               true,
               true,
               true
              ]
             },
             {
              "title": "Love for Love (Men)"
             }
            ],
            "label": "Men",
            "method": "update"
           },
           {
            "args": [
             {
              "visible": [
               true,
               false,
               false,
               false,
               true,
               false,
               true,
               true,
               true,
               true,
               false,
               false,
               false,
               false,
               false,
               false,
               false
              ]
             },
             {
              "title": "Love for Love (Women)"
             }
            ],
            "label": "Women",
            "method": "update"
           },
           {
            "args": [
             {
              "visible": "legendonly"
             },
             {
              "title": "Love for Love (Custom)"
             }
            ],
            "label": "Custom",
            "method": "update"
           }
          ],
          "direction": "down",
          "showactive": true,
          "x": 0.01,
          "xanchor": "left",
          "y": 1.1,
          "yanchor": "top"
         }
        ],
        "xaxis": {
         "autorange": true,
         "range": [
          -0.24503764544832307,
          4.245037645448323
         ],
         "title": {
          "text": ""
         },
         "type": "category"
        },
        "yaxis": {
         "autorange": true,
         "range": [
          -6.189320388349515,
          81.18932038834951
         ],
         "title": {
          "text": "Average Speech Length"
         },
         "type": "linear"
        }
       }
      },
      "image/png": "[encoded data removed]",
      "text/html": [
       "<div>                            <div id=\"1240e912-7358-41c9-b444-8b6343a88aa2\" class=\"plotly-graph-div\" style=\"height:525px; width:100%;\"></div>            <script type=\"text/javascript\">                require([\"plotly\"], function(Plotly) {                    window.PLOTLYENV=window.PLOTLYENV || {};                                    if (document.getElementById(\"1240e912-7358-41c9-b444-8b6343a88aa2\")) {                    Plotly.newPlot(                        \"1240e912-7358-41c9-b444-8b6343a88aa2\",                        [{\"mode\":\"lines+markers\",\"name\":\"Angelica\",\"x\":[\"Act 1\",\"Act 2\",\"Act 3\",\"Act 4\",\"Act 5\"],\"y\":[0,50.75,19.92,33.3,35.97],\"type\":\"scatter\"},{\"mode\":\"lines+markers\",\"name\":\"Ben\",\"x\":[\"Act 1\",\"Act 2\",\"Act 3\",\"Act 4\",\"Act 5\"],\"y\":[0,0,52.15,63.08,36.67],\"type\":\"scatter\"},{\"mode\":\"lines+markers\",\"name\":\"Buckram\",\"x\":[\"Act 1\",\"Act 2\",\"Act 3\",\"Act 4\",\"Act 5\"],\"y\":[0,0,0,22.5,12],\"type\":\"scatter\"},{\"mode\":\"lines+markers\",\"name\":\"Foresight\",\"x\":[\"Act 1\",\"Act 2\",\"Act 3\",\"Act 4\",\"Act 5\"],\"y\":[0,41.8,18.33,17.62,19.52],\"type\":\"scatter\"},{\"mode\":\"lines+markers\",\"name\":\"Jenny\",\"x\":[\"Act 1\",\"Act 2\",\"Act 3\",\"Act 4\",\"Act 5\"],\"y\":[0,0,0,12,11.5],\"type\":\"scatter\"},{\"mode\":\"lines+markers\",\"name\":\"Jeremy\",\"x\":[\"Act 1\",\"Act 2\",\"Act 3\",\"Act 4\",\"Act 5\"],\"y\":[41.52,28.43,0,24.63,45.56],\"type\":\"scatter\"},{\"mode\":\"lines+markers\",\"name\":\"Miss Prue\",\"x\":[\"Act 1\",\"Act 2\",\"Act 3\",\"Act 4\",\"Act 5\"],\"y\":[0,19.38,33.8,0,34.18],\"type\":\"scatter\"},{\"mode\":\"lines+markers\",\"name\":\"Mrs. Foresight\",\"x\":[\"Act 1\",\"Act 2\",\"Act 3\",\"Act 4\",\"Act 5\"],\"y\":[0,29.56,16.52,25,8.73],\"type\":\"scatter\"},{\"mode\":\"lines+markers\",\"name\":\"Mrs. Frail\",\"x\":[\"Act 1\",\"Act 2\",\"Act 3\",\"Act 4\",\"Act 5\"],\"y\":[23.04,29.09,18.64,24.5,17.8],\"type\":\"scatter\"},{\"mode\":\"lines+markers\",\"name\":\"Nurse\",\"x\":[\"Act 1\",\"Act 2\",\"Act 3\",\"Act 4\",\"Act 5\"],\"y\":[0,42.33,75,0,6],\"type\":\"scatter\"},{\"mode\":\"lines+markers\",\"name\":\"Officer\",\"x\":[\"Act 1\",\"Act 2\",\"Act 3\",\"Act 4\",\"Act 5\"],\"y\":[60,0,0,0,0],\"type\":\"scatter\"},{\"mode\":\"lines+markers\",\"name\":\"Scandal\",\"x\":[\"Act 1\",\"Act 2\",\"Act 3\",\"Act 4\",\"Act 5\"],\"y\":[28.44,0,29.67,23.43,19.55],\"type\":\"scatter\"},{\"mode\":\"lines+markers\",\"name\":\"Servant\",\"x\":[\"Act 1\",\"Act 2\",\"Act 3\",\"Act 4\",\"Act 5\"],\"y\":[0,5.4,9,0,0],\"type\":\"scatter\"},{\"mode\":\"lines+markers\",\"name\":\"Sir Sampson Legend\",\"x\":[\"Act 1\",\"Act 2\",\"Act 3\",\"Act 4\",\"Act 5\"],\"y\":[0,57.11,41.87,34.67,46.74],\"type\":\"scatter\"},{\"mode\":\"lines+markers\",\"name\":\"Tattle\",\"x\":[\"Act 1\",\"Act 2\",\"Act 3\",\"Act 4\",\"Act 5\"],\"y\":[22.73,24.24,38.96,26.42,33.03],\"type\":\"scatter\"},{\"mode\":\"lines+markers\",\"name\":\"Trapland\",\"x\":[\"Act 1\",\"Act 2\",\"Act 3\",\"Act 4\",\"Act 5\"],\"y\":[15.56,0,0,0,0],\"type\":\"scatter\"},{\"mode\":\"lines+markers\",\"name\":\"Valentine\",\"x\":[\"Act 1\",\"Act 2\",\"Act 3\",\"Act 4\",\"Act 5\"],\"y\":[25.81,27.86,21.64,39.46,20.89],\"type\":\"scatter\"}],                        {\"template\":{\"data\":{\"histogram2dcontour\":[{\"type\":\"histogram2dcontour\",\"colorbar\":{\"outlinewidth\":0,\"ticks\":\"\"},\"colorscale\":[[0.0,\"#0d0887\"],[0.1111111111111111,\"#46039f\"],[0.2222222222222222,\"#7201a8\"],[0.3333333333333333,\"#9c179e\"],[0.4444444444444444,\"#bd3786\"],[0.5555555555555556,\"#d8576b\"],[0.6666666666666666,\"#ed7953\"],[0.7777777777777778,\"#fb9f3a\"],[0.8888888888888888,\"#fdca26\"],[1.0,\"#f0f921\"]]}],\"choropleth\":[{\"type\":\"choropleth\",\"colorbar\":{\"outlinewidth\":0,\"ticks\":\"\"}}],\"histogram2d\":[{\"type\":\"histogram2d\",\"colorbar\":{\"outlinewidth\":0,\"ticks\":\"\"},\"colorscale\":[[0.0,\"#0d0887\"],[0.1111111111111111,\"#46039f\"],[0.2222222222222222,\"#7201a8\"],[0.3333333333333333,\"#9c179e\"],[0.4444444444444444,\"#bd3786\"],[0.5555555555555556,\"#d8576b\"],[0.6666666666666666,\"#ed7953\"],[0.7777777777777778,\"#fb9f3a\"],[0.8888888888888888,\"#fdca26\"],[1.0,\"#f0f921\"]]}],\"heatmap\":[{\"type\":\"heatmap\",\"colorbar\":{\"outlinewidth\":0,\"ticks\":\"\"},\"colorscale\":[[0.0,\"#0d0887\"],[0.1111111111111111,\"#46039f\"],[0.2222222222222222,\"#7201a8\"],[0.3333333333333333,\"#9c179e\"],[0.4444444444444444,\"#bd3786\"],[0.5555555555555556,\"#d8576b\"],[0.6666666666666666,\"#ed7953\"],[0.7777777777777778,\"#fb9f3a\"],[0.8888888888888888,\"#fdca26\"],[1.0,\"#f0f921\"]]}],\"heatmapgl\":[{\"type\":\"heatmapgl\",\"colorbar\":{\"outlinewidth\":0,\"ticks\":\"\"},\"colorscale\":[[0.0,\"#0d0887\"],[0.1111111111111111,\"#46039f\"],[0.2222222222222222,\"#7201a8\"],[0.3333333333333333,\"#9c179e\"],[0.4444444444444444,\"#bd3786\"],[0.5555555555555556,\"#d8576b\"],[0.6666666666666666,\"#ed7953\"],[0.7777777777777778,\"#fb9f3a\"],[0.8888888888888888,\"#fdca26\"],[1.0,\"#f0f921\"]]}],\"contourcarpet\":[{\"type\":\"contourcarpet\",\"colorbar\":{\"outlinewidth\":0,\"ticks\":\"\"}}],\"contour\":[{\"type\":\"contour\",\"colorbar\":{\"outlinewidth\":0,\"ticks\":\"\"},\"colorscale\":[[0.0,\"#0d0887\"],[0.1111111111111111,\"#46039f\"],[0.2222222222222222,\"#7201a8\"],[0.3333333333333333,\"#9c179e\"],[0.4444444444444444,\"#bd3786\"],[0.5555555555555556,\"#d8576b\"],[0.6666666666666666,\"#ed7953\"],[0.7777777777777778,\"#fb9f3a\"],[0.8888888888888888,\"#fdca26\"],[1.0,\"#f0f921\"]]}],\"surface\":[{\"type\":\"surface\",\"colorbar\":{\"outlinewidth\":0,\"ticks\":\"\"},\"colorscale\":[[0.0,\"#0d0887\"],[0.1111111111111111,\"#46039f\"],[0.2222222222222222,\"#7201a8\"],[0.3333333333333333,\"#9c179e\"],[0.4444444444444444,\"#bd3786\"],[0.5555555555555556,\"#d8576b\"],[0.6666666666666666,\"#ed7953\"],[0.7777777777777778,\"#fb9f3a\"],[0.8888888888888888,\"#fdca26\"],[1.0,\"#f0f921\"]]}],\"mesh3d\":[{\"type\":\"mesh3d\",\"colorbar\":{\"outlinewidth\":0,\"ticks\":\"\"}}],\"scatter\":[{\"fillpattern\":{\"fillmode\":\"overlay\",\"size\":10,\"solidity\":0.2},\"type\":\"scatter\"}],\"parcoords\":[{\"type\":\"parcoords\",\"line\":{\"colorbar\":{\"outlinewidth\":0,\"ticks\":\"\"}}}],\"scatterpolargl\":[{\"type\":\"scatterpolargl\",\"marker\":{\"colorbar\":{\"outlinewidth\":0,\"ticks\":\"\"}}}],\"bar\":[{\"error_x\":{\"color\":\"#2a3f5f\"},\"error_y\":{\"color\":\"#2a3f5f\"},\"marker\":{\"line\":{\"color\":\"#E5ECF6\",\"width\":0.5},\"pattern\":{\"fillmode\":\"overlay\",\"size\":10,\"solidity\":0.2}},\"type\":\"bar\"}],\"scattergeo\":[{\"type\":\"scattergeo\",\"marker\":{\"colorbar\":{\"outlinewidth\":0,\"ticks\":\"\"}}}],\"scatterpolar\":[{\"type\":\"scatterpolar\",\"marker\":{\"colorbar\":{\"outlinewidth\":0,\"ticks\":\"\"}}}],\"histogram\":[{\"marker\":{\"pattern\":{\"fillmode\":\"overlay\",\"size\":10,\"solidity\":0.2}},\"type\":\"histogram\"}],\"scattergl\":[{\"type\":\"scattergl\",\"marker\":{\"colorbar\":{\"outlinewidth\":0,\"ticks\":\"\"}}}],\"scatter3d\":[{\"type\":\"scatter3d\",\"line\":{\"colorbar\":{\"outlinewidth\":0,\"ticks\":\"\"}},\"marker\":{\"colorbar\":{\"outlinewidth\":0,\"ticks\":\"\"}}}],\"scattermapbox\":[{\"type\":\"scattermapbox\",\"marker\":{\"colorbar\":{\"outlinewidth\":0,\"ticks\":\"\"}}}],\"scatterternary\":[{\"type\":\"scatterternary\",\"marker\":{\"colorbar\":{\"outlinewidth\":0,\"ticks\":\"\"}}}],\"scattercarpet\":[{\"type\":\"scattercarpet\",\"marker\":{\"colorbar\":{\"outlinewidth\":0,\"ticks\":\"\"}}}],\"carpet\":[{\"aaxis\":{\"endlinecolor\":\"#2a3f5f\",\"gridcolor\":\"white\",\"linecolor\":\"white\",\"minorgridcolor\":\"white\",\"startlinecolor\":\"#2a3f5f\"},\"baxis\":{\"endlinecolor\":\"#2a3f5f\",\"gridcolor\":\"white\",\"linecolor\":\"white\",\"minorgridcolor\":\"white\",\"startlinecolor\":\"#2a3f5f\"},\"type\":\"carpet\"}],\"table\":[{\"cells\":{\"fill\":{\"color\":\"#EBF0F8\"},\"line\":{\"color\":\"white\"}},\"header\":{\"fill\":{\"color\":\"#C8D4E3\"},\"line\":{\"color\":\"white\"}},\"type\":\"table\"}],\"barpolar\":[{\"marker\":{\"line\":{\"color\":\"#E5ECF6\",\"width\":0.5},\"pattern\":{\"fillmode\":\"overlay\",\"size\":10,\"solidity\":0.2}},\"type\":\"barpolar\"}],\"pie\":[{\"automargin\":true,\"type\":\"pie\"}]},\"layout\":{\"autotypenumbers\":\"strict\",\"colorway\":[\"#636efa\",\"#EF553B\",\"#00cc96\",\"#ab63fa\",\"#FFA15A\",\"#19d3f3\",\"#FF6692\",\"#B6E880\",\"#FF97FF\",\"#FECB52\"],\"font\":{\"color\":\"#2a3f5f\"},\"hovermode\":\"closest\",\"hoverlabel\":{\"align\":\"left\"},\"paper_bgcolor\":\"white\",\"plot_bgcolor\":\"#E5ECF6\",\"polar\":{\"bgcolor\":\"#E5ECF6\",\"angularaxis\":{\"gridcolor\":\"white\",\"linecolor\":\"white\",\"ticks\":\"\"},\"radialaxis\":{\"gridcolor\":\"white\",\"linecolor\":\"white\",\"ticks\":\"\"}},\"ternary\":{\"bgcolor\":\"#E5ECF6\",\"aaxis\":{\"gridcolor\":\"white\",\"linecolor\":\"white\",\"ticks\":\"\"},\"baxis\":{\"gridcolor\":\"white\",\"linecolor\":\"white\",\"ticks\":\"\"},\"caxis\":{\"gridcolor\":\"white\",\"linecolor\":\"white\",\"ticks\":\"\"}},\"coloraxis\":{\"colorbar\":{\"outlinewidth\":0,\"ticks\":\"\"}},\"colorscale\":{\"sequential\":[[0.0,\"#0d0887\"],[0.1111111111111111,\"#46039f\"],[0.2222222222222222,\"#7201a8\"],[0.3333333333333333,\"#9c179e\"],[0.4444444444444444,\"#bd3786\"],[0.5555555555555556,\"#d8576b\"],[0.6666666666666666,\"#ed7953\"],[0.7777777777777778,\"#fb9f3a\"],[0.8888888888888888,\"#fdca26\"],[1.0,\"#f0f921\"]],\"sequentialminus\":[[0.0,\"#0d0887\"],[0.1111111111111111,\"#46039f\"],[0.2222222222222222,\"#7201a8\"],[0.3333333333333333,\"#9c179e\"],[0.4444444444444444,\"#bd3786\"],[0.5555555555555556,\"#d8576b\"],[0.6666666666666666,\"#ed7953\"],[0.7777777777777778,\"#fb9f3a\"],[0.8888888888888888,\"#fdca26\"],[1.0,\"#f0f921\"]],\"diverging\":[[0,\"#8e0152\"],[0.1,\"#c51b7d\"],[0.2,\"#de77ae\"],[0.3,\"#f1b6da\"],[0.4,\"#fde0ef\"],[0.5,\"#f7f7f7\"],[0.6,\"#e6f5d0\"],[0.7,\"#b8e186\"],[0.8,\"#7fbc41\"],[0.9,\"#4d9221\"],[1,\"#276419\"]]},\"xaxis\":{\"gridcolor\":\"white\",\"linecolor\":\"white\",\"ticks\":\"\",\"title\":{\"standoff\":15},\"zerolinecolor\":\"white\",\"automargin\":true,\"zerolinewidth\":2},\"yaxis\":{\"gridcolor\":\"white\",\"linecolor\":\"white\",\"ticks\":\"\",\"title\":{\"standoff\":15},\"zerolinecolor\":\"white\",\"automargin\":true,\"zerolinewidth\":2},\"scene\":{\"xaxis\":{\"backgroundcolor\":\"#E5ECF6\",\"gridcolor\":\"white\",\"linecolor\":\"white\",\"showbackground\":true,\"ticks\":\"\",\"zerolinecolor\":\"white\",\"gridwidth\":2},\"yaxis\":{\"backgroundcolor\":\"#E5ECF6\",\"gridcolor\":\"white\",\"linecolor\":\"white\",\"showbackground\":true,\"ticks\":\"\",\"zerolinecolor\":\"white\",\"gridwidth\":2},\"zaxis\":{\"backgroundcolor\":\"#E5ECF6\",\"gridcolor\":\"white\",\"linecolor\":\"white\",\"showbackground\":true,\"ticks\":\"\",\"zerolinecolor\":\"white\",\"gridwidth\":2}},\"shapedefaults\":{\"line\":{\"color\":\"#2a3f5f\"}},\"annotationdefaults\":{\"arrowcolor\":\"#2a3f5f\",\"arrowhead\":0,\"arrowwidth\":1},\"geo\":{\"bgcolor\":\"white\",\"landcolor\":\"#E5ECF6\",\"subunitcolor\":\"white\",\"showland\":true,\"showlakes\":true,\"lakecolor\":\"white\"},\"title\":{\"x\":0.05},\"mapbox\":{\"style\":\"light\"}}},\"updatemenus\":[{\"buttons\":[{\"args\":[{\"visible\":[true,true,true,true,true,true,true,true,true,true,true,true,true,true,true,true,true]},{\"title\":\"Love for Love\"}],\"label\":\"All\",\"method\":\"update\"},{\"args\":[{\"visible\":[false,true,true,true,false,true,false,false,false,false,false,true,false,true,true,true,true]},{\"title\":\"Love for Love (Men)\"}],\"label\":\"Men\",\"method\":\"update\"},{\"args\":[{\"visible\":[true,false,false,false,true,false,true,true,true,true,false,false,false,false,false,false,false]},{\"title\":\"Love for Love (Women)\"}],\"label\":\"Women\",\"method\":\"update\"},{\"args\":[{\"visible\":\"legendonly\"},{\"title\":\"Love for Love (Custom)\"}],\"label\":\"Custom\",\"method\":\"update\"}],\"direction\":\"down\",\"showactive\":true,\"x\":0.01,\"xanchor\":\"left\",\"y\":1.1,\"yanchor\":\"top\"}],\"title\":{\"text\":\"Love for Love\"},\"xaxis\":{\"title\":{\"text\":\"\"}},\"yaxis\":{\"title\":{\"text\":\"Average Speech Length\"}}},                        {\"responsive\": true}                    ).then(function(){\n",
       "                            \n",
       "var gd = document.getElementById('1240e912-7358-41c9-b444-8b6343a88aa2');\n",
       "var x = new MutationObserver(function (mutations, observer) {{\n",
       "        var display = window.getComputedStyle(gd).display;\n",
       "        if (!display || display === 'none') {{\n",
       "            console.log([gd, 'removed!']);\n",
       "            Plotly.purge(gd);\n",
       "            observer.disconnect();\n",
       "        }}\n",
       "}});\n",
       "\n",
       "// Listen for the removal of the full notebook cells\n",
       "var notebookContainer = gd.closest('#notebook-container');\n",
       "if (notebookContainer) {{\n",
       "    x.observe(notebookContainer, {childList: true});\n",
       "}}\n",
       "\n",
       "// Listen for the clearing of the current output cell\n",
       "var outputEl = gd.closest('.output');\n",
       "if (outputEl) {{\n",
       "    x.observe(outputEl, {childList: true});\n",
       "}}\n",
       "\n",
       "                        })                };                });            </script>        </div>"
      ]
     },
     "metadata": {},
     "output_type": "display_data"
    },
    {
     "data": {
      "application/vnd.plotly.v1+json": {
       "config": {
        "plotlyServerURL": "https://plot.ly",
        "responsive": true
       },
       "data": [
        {
         "mode": "lines+markers",
         "name": "Betty",
         "type": "scatter",
         "x": [
          "Act 1",
          "Act 2",
          "Act 3",
          "Act 4",
          "Act 5"
         ],
         "y": [
          7,
          0,
          0,
          0,
          0
         ]
        },
        {
         "mode": "lines+markers",
         "name": "Coachman",
         "type": "scatter",
         "x": [
          "Act 1",
          "Act 2",
          "Act 3",
          "Act 4",
          "Act 5"
         ],
         "y": [
          10,
          0,
          0,
          0,
          0
         ]
        },
        {
         "mode": "lines+markers",
         "name": "Fainall",
         "type": "scatter",
         "x": [
          "Act 1",
          "Act 2",
          "Act 3",
          "Act 4",
          "Act 5"
         ],
         "y": [
          22.16,
          28.06,
          58.75,
          28.75,
          41.61
         ]
        },
        {
         "mode": "lines+markers",
         "name": "Foible",
         "type": "scatter",
         "x": [
          "Act 1",
          "Act 2",
          "Act 3",
          "Act 4",
          "Act 5"
         ],
         "y": [
          0,
          40.17,
          47.39,
          19.28,
          54.09
         ]
        },
        {
         "mode": "lines+markers",
         "name": "Lady Wishfort",
         "type": "scatter",
         "x": [
          "Act 1",
          "Act 2",
          "Act 3",
          "Act 4",
          "Act 5"
         ],
         "y": [
          0,
          0,
          49.71,
          37.8,
          45.22
         ]
        },
        {
         "mode": "lines+markers",
         "name": "Messenger",
         "type": "scatter",
         "x": [
          "Act 1",
          "Act 2",
          "Act 3",
          "Act 4",
          "Act 5"
         ],
         "y": [
          15,
          0,
          0,
          0,
          0
         ]
        },
        {
         "mode": "lines+markers",
         "name": "Millamant",
         "type": "scatter",
         "x": [
          "Act 1",
          "Act 2",
          "Act 3",
          "Act 4",
          "Act 5"
         ],
         "y": [
          0,
          32.68,
          39.12,
          33.35,
          31
         ]
        },
        {
         "mode": "lines+markers",
         "name": "Mincing",
         "type": "scatter",
         "x": [
          "Act 1",
          "Act 2",
          "Act 3",
          "Act 4",
          "Act 5"
         ],
         "y": [
          0,
          19.75,
          13.33,
          0,
          50
         ]
        },
        {
         "mode": "lines+markers",
         "name": "Mirabell",
         "type": "scatter",
         "x": [
          "Act 1",
          "Act 2",
          "Act 3",
          "Act 4",
          "Act 5"
         ],
         "y": [
          26.96,
          29.95,
          0,
          48.71,
          38.74
         ]
        },
        {
         "mode": "lines+markers",
         "name": "Mrs. Fainall",
         "type": "scatter",
         "x": [
          "Act 1",
          "Act 2",
          "Act 3",
          "Act 4",
          "Act 5"
         ],
         "y": [
          0,
          17.59,
          28,
          34.29,
          23.87
         ]
        },
        {
         "mode": "lines+markers",
         "name": "Mrs. Marwood",
         "type": "scatter",
         "x": [
          "Act 1",
          "Act 2",
          "Act 3",
          "Act 4",
          "Act 5"
         ],
         "y": [
          0,
          20.67,
          34.27,
          0,
          41.53
         ]
        },
        {
         "mode": "lines+markers",
         "name": "Peg",
         "type": "scatter",
         "x": [
          "Act 1",
          "Act 2",
          "Act 3",
          "Act 4",
          "Act 5"
         ],
         "y": [
          0,
          0,
          13.4,
          0,
          0
         ]
        },
        {
         "mode": "lines+markers",
         "name": "Petulant",
         "type": "scatter",
         "x": [
          "Act 1",
          "Act 2",
          "Act 3",
          "Act 4",
          "Act 5"
         ],
         "y": [
          24.23,
          0,
          18.79,
          27.5,
          10.5
         ]
        },
        {
         "mode": "lines+markers",
         "name": "Servant",
         "type": "scatter",
         "x": [
          "Act 1",
          "Act 2",
          "Act 3",
          "Act 4",
          "Act 5"
         ],
         "y": [
          24.5,
          0,
          17.67,
          0,
          0
         ]
        },
        {
         "mode": "lines+markers",
         "name": "Sir Willfull Witwoud",
         "type": "scatter",
         "x": [
          "Act 1",
          "Act 2",
          "Act 3",
          "Act 4",
          "Act 5"
         ],
         "y": [
          0,
          0,
          39,
          52,
          58.11
         ]
        },
        {
         "mode": "lines+markers",
         "name": "Waitwell",
         "type": "scatter",
         "x": [
          "Act 1",
          "Act 2",
          "Act 3",
          "Act 4",
          "Act 5"
         ],
         "y": [
          0,
          36.83,
          0,
          29.45,
          15.5
         ]
        },
        {
         "mode": "lines+markers",
         "name": "Witwoud",
         "type": "scatter",
         "x": [
          "Act 1",
          "Act 2",
          "Act 3",
          "Act 4",
          "Act 5"
         ],
         "y": [
          34.65,
          21.3,
          26.88,
          34.7,
          11.67
         ]
        }
       ],
       "layout": {
        "autosize": true,
        "template": {
         "data": {
          "bar": [
           {
            "error_x": {
             "color": "#2a3f5f"
            },
            "error_y": {
             "color": "#2a3f5f"
            },
            "marker": {
             "line": {
              "color": "#E5ECF6",
              "width": 0.5
             },
             "pattern": {
              "fillmode": "overlay",
              "size": 10,
              "solidity": 0.2
             }
            },
            "type": "bar"
           }
          ],
          "barpolar": [
           {
            "marker": {
             "line": {
              "color": "#E5ECF6",
              "width": 0.5
             },
             "pattern": {
              "fillmode": "overlay",
              "size": 10,
              "solidity": 0.2
             }
            },
            "type": "barpolar"
           }
          ],
          "carpet": [
           {
            "aaxis": {
             "endlinecolor": "#2a3f5f",
             "gridcolor": "white",
             "linecolor": "white",
             "minorgridcolor": "white",
             "startlinecolor": "#2a3f5f"
            },
            "baxis": {
             "endlinecolor": "#2a3f5f",
             "gridcolor": "white",
             "linecolor": "white",
             "minorgridcolor": "white",
             "startlinecolor": "#2a3f5f"
            },
            "type": "carpet"
           }
          ],
          "choropleth": [
           {
            "colorbar": {
             "outlinewidth": 0,
             "ticks": ""
            },
            "type": "choropleth"
           }
          ],
          "contour": [
           {
            "colorbar": {
             "outlinewidth": 0,
             "ticks": ""
            },
            "colorscale": [
             [
              0,
              "#0d0887"
             ],
             [
              0.1111111111111111,
              "#46039f"
             ],
             [
              0.2222222222222222,
              "#7201a8"
             ],
             [
              0.3333333333333333,
              "#9c179e"
             ],
             [
              0.4444444444444444,
              "#bd3786"
             ],
             [
              0.5555555555555556,
              "#d8576b"
             ],
             [
              0.6666666666666666,
              "#ed7953"
             ],
             [
              0.7777777777777778,
              "#fb9f3a"
             ],
             [
              0.8888888888888888,
              "#fdca26"
             ],
             [
              1,
              "#f0f921"
             ]
            ],
            "type": "contour"
           }
          ],
          "contourcarpet": [
           {
            "colorbar": {
             "outlinewidth": 0,
             "ticks": ""
            },
            "type": "contourcarpet"
           }
          ],
          "heatmap": [
           {
            "colorbar": {
             "outlinewidth": 0,
             "ticks": ""
            },
            "colorscale": [
             [
              0,
              "#0d0887"
             ],
             [
              0.1111111111111111,
              "#46039f"
             ],
             [
              0.2222222222222222,
              "#7201a8"
             ],
             [
              0.3333333333333333,
              "#9c179e"
             ],
             [
              0.4444444444444444,
              "#bd3786"
             ],
             [
              0.5555555555555556,
              "#d8576b"
             ],
             [
              0.6666666666666666,
              "#ed7953"
             ],
             [
              0.7777777777777778,
              "#fb9f3a"
             ],
             [
              0.8888888888888888,
              "#fdca26"
             ],
             [
              1,
              "#f0f921"
             ]
            ],
            "type": "heatmap"
           }
          ],
          "heatmapgl": [
           {
            "colorbar": {
             "outlinewidth": 0,
             "ticks": ""
            },
            "colorscale": [
             [
              0,
              "#0d0887"
             ],
             [
              0.1111111111111111,
              "#46039f"
             ],
             [
              0.2222222222222222,
              "#7201a8"
             ],
             [
              0.3333333333333333,
              "#9c179e"
             ],
             [
              0.4444444444444444,
              "#bd3786"
             ],
             [
              0.5555555555555556,
              "#d8576b"
             ],
             [
              0.6666666666666666,
              "#ed7953"
             ],
             [
              0.7777777777777778,
              "#fb9f3a"
             ],
             [
              0.8888888888888888,
              "#fdca26"
             ],
             [
              1,
              "#f0f921"
             ]
            ],
            "type": "heatmapgl"
           }
          ],
          "histogram": [
           {
            "marker": {
             "pattern": {
              "fillmode": "overlay",
              "size": 10,
              "solidity": 0.2
             }
            },
            "type": "histogram"
           }
          ],
          "histogram2d": [
           {
            "colorbar": {
             "outlinewidth": 0,
             "ticks": ""
            },
            "colorscale": [
             [
              0,
              "#0d0887"
             ],
             [
              0.1111111111111111,
              "#46039f"
             ],
             [
              0.2222222222222222,
              "#7201a8"
             ],
             [
              0.3333333333333333,
              "#9c179e"
             ],
             [
              0.4444444444444444,
              "#bd3786"
             ],
             [
              0.5555555555555556,
              "#d8576b"
             ],
             [
              0.6666666666666666,
              "#ed7953"
             ],
             [
              0.7777777777777778,
              "#fb9f3a"
             ],
             [
              0.8888888888888888,
              "#fdca26"
             ],
             [
              1,
              "#f0f921"
             ]
            ],
            "type": "histogram2d"
           }
          ],
          "histogram2dcontour": [
           {
            "colorbar": {
             "outlinewidth": 0,
             "ticks": ""
            },
            "colorscale": [
             [
              0,
              "#0d0887"
             ],
             [
              0.1111111111111111,
              "#46039f"
             ],
             [
              0.2222222222222222,
              "#7201a8"
             ],
             [
              0.3333333333333333,
              "#9c179e"
             ],
             [
              0.4444444444444444,
              "#bd3786"
             ],
             [
              0.5555555555555556,
              "#d8576b"
             ],
             [
              0.6666666666666666,
              "#ed7953"
             ],
             [
              0.7777777777777778,
              "#fb9f3a"
             ],
             [
              0.8888888888888888,
              "#fdca26"
             ],
             [
              1,
              "#f0f921"
             ]
            ],
            "type": "histogram2dcontour"
           }
          ],
          "mesh3d": [
           {
            "colorbar": {
             "outlinewidth": 0,
             "ticks": ""
            },
            "type": "mesh3d"
           }
          ],
          "parcoords": [
           {
            "line": {
             "colorbar": {
              "outlinewidth": 0,
              "ticks": ""
             }
            },
            "type": "parcoords"
           }
          ],
          "pie": [
           {
            "automargin": true,
            "type": "pie"
           }
          ],
          "scatter": [
           {
            "fillpattern": {
             "fillmode": "overlay",
             "size": 10,
             "solidity": 0.2
            },
            "type": "scatter"
           }
          ],
          "scatter3d": [
           {
            "line": {
             "colorbar": {
              "outlinewidth": 0,
              "ticks": ""
             }
            },
            "marker": {
             "colorbar": {
              "outlinewidth": 0,
              "ticks": ""
             }
            },
            "type": "scatter3d"
           }
          ],
          "scattercarpet": [
           {
            "marker": {
             "colorbar": {
              "outlinewidth": 0,
              "ticks": ""
             }
            },
            "type": "scattercarpet"
           }
          ],
          "scattergeo": [
           {
            "marker": {
             "colorbar": {
              "outlinewidth": 0,
              "ticks": ""
             }
            },
            "type": "scattergeo"
           }
          ],
          "scattergl": [
           {
            "marker": {
             "colorbar": {
              "outlinewidth": 0,
              "ticks": ""
             }
            },
            "type": "scattergl"
           }
          ],
          "scattermapbox": [
           {
            "marker": {
             "colorbar": {
              "outlinewidth": 0,
              "ticks": ""
             }
            },
            "type": "scattermapbox"
           }
          ],
          "scatterpolar": [
           {
            "marker": {
             "colorbar": {
              "outlinewidth": 0,
              "ticks": ""
             }
            },
            "type": "scatterpolar"
           }
          ],
          "scatterpolargl": [
           {
            "marker": {
             "colorbar": {
              "outlinewidth": 0,
              "ticks": ""
             }
            },
            "type": "scatterpolargl"
           }
          ],
          "scatterternary": [
           {
            "marker": {
             "colorbar": {
              "outlinewidth": 0,
              "ticks": ""
             }
            },
            "type": "scatterternary"
           }
          ],
          "surface": [
           {
            "colorbar": {
             "outlinewidth": 0,
             "ticks": ""
            },
            "colorscale": [
             [
              0,
              "#0d0887"
             ],
             [
              0.1111111111111111,
              "#46039f"
             ],
             [
              0.2222222222222222,
              "#7201a8"
             ],
             [
              0.3333333333333333,
              "#9c179e"
             ],
             [
              0.4444444444444444,
              "#bd3786"
             ],
             [
              0.5555555555555556,
              "#d8576b"
             ],
             [
              0.6666666666666666,
              "#ed7953"
             ],
             [
              0.7777777777777778,
              "#fb9f3a"
             ],
             [
              0.8888888888888888,
              "#fdca26"
             ],
             [
              1,
              "#f0f921"
             ]
            ],
            "type": "surface"
           }
          ],
          "table": [
           {
            "cells": {
             "fill": {
              "color": "#EBF0F8"
             },
             "line": {
              "color": "white"
             }
            },
            "header": {
             "fill": {
              "color": "#C8D4E3"
             },
             "line": {
              "color": "white"
             }
            },
            "type": "table"
           }
          ]
         },
         "layout": {
          "annotationdefaults": {
           "arrowcolor": "#2a3f5f",
           "arrowhead": 0,
           "arrowwidth": 1
          },
          "autotypenumbers": "strict",
          "coloraxis": {
           "colorbar": {
            "outlinewidth": 0,
            "ticks": ""
           }
          },
          "colorscale": {
           "diverging": [
            [
             0,
             "#8e0152"
            ],
            [
             0.1,
             "#c51b7d"
            ],
            [
             0.2,
             "#de77ae"
            ],
            [
             0.3,
             "#f1b6da"
            ],
            [
             0.4,
             "#fde0ef"
            ],
            [
             0.5,
             "#f7f7f7"
            ],
            [
             0.6,
             "#e6f5d0"
            ],
            [
             0.7,
             "#b8e186"
            ],
            [
             0.8,
             "#7fbc41"
            ],
            [
             0.9,
             "#4d9221"
            ],
            [
             1,
             "#276419"
            ]
           ],
           "sequential": [
            [
             0,
             "#0d0887"
            ],
            [
             0.1111111111111111,
             "#46039f"
            ],
            [
             0.2222222222222222,
             "#7201a8"
            ],
            [
             0.3333333333333333,
             "#9c179e"
            ],
            [
             0.4444444444444444,
             "#bd3786"
            ],
            [
             0.5555555555555556,
             "#d8576b"
            ],
            [
             0.6666666666666666,
             "#ed7953"
            ],
            [
             0.7777777777777778,
             "#fb9f3a"
            ],
            [
             0.8888888888888888,
             "#fdca26"
            ],
            [
             1,
             "#f0f921"
            ]
           ],
           "sequentialminus": [
            [
             0,
             "#0d0887"
            ],
            [
             0.1111111111111111,
             "#46039f"
            ],
            [
             0.2222222222222222,
             "#7201a8"
            ],
            [
             0.3333333333333333,
             "#9c179e"
            ],
            [
             0.4444444444444444,
             "#bd3786"
            ],
            [
             0.5555555555555556,
             "#d8576b"
            ],
            [
             0.6666666666666666,
             "#ed7953"
            ],
            [
             0.7777777777777778,
             "#fb9f3a"
            ],
            [
             0.8888888888888888,
             "#fdca26"
            ],
            [
             1,
             "#f0f921"
            ]
           ]
          },
          "colorway": [
           "#636efa",
           "#EF553B",
           "#00cc96",
           "#ab63fa",
           "#FFA15A",
           "#19d3f3",
           "#FF6692",
           "#B6E880",
           "#FF97FF",
           "#FECB52"
          ],
          "font": {
           "color": "#2a3f5f"
          },
          "geo": {
           "bgcolor": "white",
           "lakecolor": "white",
           "landcolor": "#E5ECF6",
           "showlakes": true,
           "showland": true,
           "subunitcolor": "white"
          },
          "hoverlabel": {
           "align": "left"
          },
          "hovermode": "closest",
          "mapbox": {
           "style": "light"
          },
          "paper_bgcolor": "white",
          "plot_bgcolor": "#E5ECF6",
          "polar": {
           "angularaxis": {
            "gridcolor": "white",
            "linecolor": "white",
            "ticks": ""
           },
           "bgcolor": "#E5ECF6",
           "radialaxis": {
            "gridcolor": "white",
            "linecolor": "white",
            "ticks": ""
           }
          },
          "scene": {
           "xaxis": {
            "backgroundcolor": "#E5ECF6",
            "gridcolor": "white",
            "gridwidth": 2,
            "linecolor": "white",
            "showbackground": true,
            "ticks": "",
            "zerolinecolor": "white"
           },
           "yaxis": {
            "backgroundcolor": "#E5ECF6",
            "gridcolor": "white",
            "gridwidth": 2,
            "linecolor": "white",
            "showbackground": true,
            "ticks": "",
            "zerolinecolor": "white"
           },
           "zaxis": {
            "backgroundcolor": "#E5ECF6",
            "gridcolor": "white",
            "gridwidth": 2,
            "linecolor": "white",
            "showbackground": true,
            "ticks": "",
            "zerolinecolor": "white"
           }
          },
          "shapedefaults": {
           "line": {
            "color": "#2a3f5f"
           }
          },
          "ternary": {
           "aaxis": {
            "gridcolor": "white",
            "linecolor": "white",
            "ticks": ""
           },
           "baxis": {
            "gridcolor": "white",
            "linecolor": "white",
            "ticks": ""
           },
           "bgcolor": "#E5ECF6",
           "caxis": {
            "gridcolor": "white",
            "linecolor": "white",
            "ticks": ""
           }
          },
          "title": {
           "x": 0.05
          },
          "xaxis": {
           "automargin": true,
           "gridcolor": "white",
           "linecolor": "white",
           "ticks": "",
           "title": {
            "standoff": 15
           },
           "zerolinecolor": "white",
           "zerolinewidth": 2
          },
          "yaxis": {
           "automargin": true,
           "gridcolor": "white",
           "linecolor": "white",
           "ticks": "",
           "title": {
            "standoff": 15
           },
           "zerolinecolor": "white",
           "zerolinewidth": 2
          }
         }
        },
        "title": {
         "text": "The Way of the World"
        },
        "updatemenus": [
         {
          "buttons": [
           {
            "args": [
             {
              "visible": [
               true,
               true,
               true,
               true,
               true,
               true,
               true,
               true,
               true,
               true,
               true,
               true,
               true,
               true,
               true,
               true,
               true
              ]
             },
             {
              "title": "The Way of the World"
             }
            ],
            "label": "All",
            "method": "update"
           },
           {
            "args": [
             {
              "visible": [
               false,
               false,
               true,
               false,
               false,
               false,
               false,
               false,
               true,
               false,
               false,
               false,
               true,
               false,
               true,
               true,
               true
              ]
             },
             {
              "title": "The Way of the World (Men)"
             }
            ],
            "label": "Men",
            "method": "update"
           },
           {
            "args": [
             {
              "visible": [
               false,
               false,
               false,
               true,
               true,
               false,
               true,
               true,
               false,
               true,
               true,
               false,
               false,
               false,
               false,
               false,
               false
              ]
             },
             {
              "title": "The Way of the World (Women)"
             }
            ],
            "label": "Women",
            "method": "update"
           },
           {
            "args": [
             {
              "visible": "legendonly"
             },
             {
              "title": "The Way of the World (Custom)"
             }
            ],
            "label": "Custom",
            "method": "update"
           }
          ],
          "direction": "down",
          "showactive": true,
          "x": 0.01,
          "xanchor": "left",
          "y": 1.1,
          "yanchor": "top"
         }
        ],
        "xaxis": {
         "autorange": true,
         "range": [
          -0.24475997295469912,
          4.244759972954699
         ],
         "title": {
          "text": ""
         },
         "type": "category"
        },
        "yaxis": {
         "autorange": true,
         "range": [
          -4.848300970873786,
          63.59830097087379
         ],
         "title": {
          "text": "Average Speech Length"
         },
         "type": "linear"
        }
       }
      },
      "image/png": "[encoded data removed]",
      "text/html": [
       "<div>                            <div id=\"2d3de80c-b93b-4930-b6b8-9746e132beba\" class=\"plotly-graph-div\" style=\"height:525px; width:100%;\"></div>            <script type=\"text/javascript\">                require([\"plotly\"], function(Plotly) {                    window.PLOTLYENV=window.PLOTLYENV || {};                                    if (document.getElementById(\"2d3de80c-b93b-4930-b6b8-9746e132beba\")) {                    Plotly.newPlot(                        \"2d3de80c-b93b-4930-b6b8-9746e132beba\",                        [{\"mode\":\"lines+markers\",\"name\":\"Betty\",\"x\":[\"Act 1\",\"Act 2\",\"Act 3\",\"Act 4\",\"Act 5\"],\"y\":[7,0,0,0,0],\"type\":\"scatter\"},{\"mode\":\"lines+markers\",\"name\":\"Coachman\",\"x\":[\"Act 1\",\"Act 2\",\"Act 3\",\"Act 4\",\"Act 5\"],\"y\":[10,0,0,0,0],\"type\":\"scatter\"},{\"mode\":\"lines+markers\",\"name\":\"Fainall\",\"x\":[\"Act 1\",\"Act 2\",\"Act 3\",\"Act 4\",\"Act 5\"],\"y\":[22.16,28.06,58.75,28.75,41.61],\"type\":\"scatter\"},{\"mode\":\"lines+markers\",\"name\":\"Foible\",\"x\":[\"Act 1\",\"Act 2\",\"Act 3\",\"Act 4\",\"Act 5\"],\"y\":[0,40.17,47.39,19.28,54.09],\"type\":\"scatter\"},{\"mode\":\"lines+markers\",\"name\":\"Lady Wishfort\",\"x\":[\"Act 1\",\"Act 2\",\"Act 3\",\"Act 4\",\"Act 5\"],\"y\":[0,0,49.71,37.8,45.22],\"type\":\"scatter\"},{\"mode\":\"lines+markers\",\"name\":\"Messenger\",\"x\":[\"Act 1\",\"Act 2\",\"Act 3\",\"Act 4\",\"Act 5\"],\"y\":[15,0,0,0,0],\"type\":\"scatter\"},{\"mode\":\"lines+markers\",\"name\":\"Millamant\",\"x\":[\"Act 1\",\"Act 2\",\"Act 3\",\"Act 4\",\"Act 5\"],\"y\":[0,32.68,39.12,33.35,31],\"type\":\"scatter\"},{\"mode\":\"lines+markers\",\"name\":\"Mincing\",\"x\":[\"Act 1\",\"Act 2\",\"Act 3\",\"Act 4\",\"Act 5\"],\"y\":[0,19.75,13.33,0,50],\"type\":\"scatter\"},{\"mode\":\"lines+markers\",\"name\":\"Mirabell\",\"x\":[\"Act 1\",\"Act 2\",\"Act 3\",\"Act 4\",\"Act 5\"],\"y\":[26.96,29.95,0,48.71,38.74],\"type\":\"scatter\"},{\"mode\":\"lines+markers\",\"name\":\"Mrs. Fainall\",\"x\":[\"Act 1\",\"Act 2\",\"Act 3\",\"Act 4\",\"Act 5\"],\"y\":[0,17.59,28,34.29,23.87],\"type\":\"scatter\"},{\"mode\":\"lines+markers\",\"name\":\"Mrs. Marwood\",\"x\":[\"Act 1\",\"Act 2\",\"Act 3\",\"Act 4\",\"Act 5\"],\"y\":[0,20.67,34.27,0,41.53],\"type\":\"scatter\"},{\"mode\":\"lines+markers\",\"name\":\"Peg\",\"x\":[\"Act 1\",\"Act 2\",\"Act 3\",\"Act 4\",\"Act 5\"],\"y\":[0,0,13.4,0,0],\"type\":\"scatter\"},{\"mode\":\"lines+markers\",\"name\":\"Petulant\",\"x\":[\"Act 1\",\"Act 2\",\"Act 3\",\"Act 4\",\"Act 5\"],\"y\":[24.23,0,18.79,27.5,10.5],\"type\":\"scatter\"},{\"mode\":\"lines+markers\",\"name\":\"Servant\",\"x\":[\"Act 1\",\"Act 2\",\"Act 3\",\"Act 4\",\"Act 5\"],\"y\":[24.5,0,17.67,0,0],\"type\":\"scatter\"},{\"mode\":\"lines+markers\",\"name\":\"Sir Willfull Witwoud\",\"x\":[\"Act 1\",\"Act 2\",\"Act 3\",\"Act 4\",\"Act 5\"],\"y\":[0,0,39,52,58.11],\"type\":\"scatter\"},{\"mode\":\"lines+markers\",\"name\":\"Waitwell\",\"x\":[\"Act 1\",\"Act 2\",\"Act 3\",\"Act 4\",\"Act 5\"],\"y\":[0,36.83,0,29.45,15.5],\"type\":\"scatter\"},{\"mode\":\"lines+markers\",\"name\":\"Witwoud\",\"x\":[\"Act 1\",\"Act 2\",\"Act 3\",\"Act 4\",\"Act 5\"],\"y\":[34.65,21.3,26.88,34.7,11.67],\"type\":\"scatter\"}],                        {\"template\":{\"data\":{\"histogram2dcontour\":[{\"type\":\"histogram2dcontour\",\"colorbar\":{\"outlinewidth\":0,\"ticks\":\"\"},\"colorscale\":[[0.0,\"#0d0887\"],[0.1111111111111111,\"#46039f\"],[0.2222222222222222,\"#7201a8\"],[0.3333333333333333,\"#9c179e\"],[0.4444444444444444,\"#bd3786\"],[0.5555555555555556,\"#d8576b\"],[0.6666666666666666,\"#ed7953\"],[0.7777777777777778,\"#fb9f3a\"],[0.8888888888888888,\"#fdca26\"],[1.0,\"#f0f921\"]]}],\"choropleth\":[{\"type\":\"choropleth\",\"colorbar\":{\"outlinewidth\":0,\"ticks\":\"\"}}],\"histogram2d\":[{\"type\":\"histogram2d\",\"colorbar\":{\"outlinewidth\":0,\"ticks\":\"\"},\"colorscale\":[[0.0,\"#0d0887\"],[0.1111111111111111,\"#46039f\"],[0.2222222222222222,\"#7201a8\"],[0.3333333333333333,\"#9c179e\"],[0.4444444444444444,\"#bd3786\"],[0.5555555555555556,\"#d8576b\"],[0.6666666666666666,\"#ed7953\"],[0.7777777777777778,\"#fb9f3a\"],[0.8888888888888888,\"#fdca26\"],[1.0,\"#f0f921\"]]}],\"heatmap\":[{\"type\":\"heatmap\",\"colorbar\":{\"outlinewidth\":0,\"ticks\":\"\"},\"colorscale\":[[0.0,\"#0d0887\"],[0.1111111111111111,\"#46039f\"],[0.2222222222222222,\"#7201a8\"],[0.3333333333333333,\"#9c179e\"],[0.4444444444444444,\"#bd3786\"],[0.5555555555555556,\"#d8576b\"],[0.6666666666666666,\"#ed7953\"],[0.7777777777777778,\"#fb9f3a\"],[0.8888888888888888,\"#fdca26\"],[1.0,\"#f0f921\"]]}],\"heatmapgl\":[{\"type\":\"heatmapgl\",\"colorbar\":{\"outlinewidth\":0,\"ticks\":\"\"},\"colorscale\":[[0.0,\"#0d0887\"],[0.1111111111111111,\"#46039f\"],[0.2222222222222222,\"#7201a8\"],[0.3333333333333333,\"#9c179e\"],[0.4444444444444444,\"#bd3786\"],[0.5555555555555556,\"#d8576b\"],[0.6666666666666666,\"#ed7953\"],[0.7777777777777778,\"#fb9f3a\"],[0.8888888888888888,\"#fdca26\"],[1.0,\"#f0f921\"]]}],\"contourcarpet\":[{\"type\":\"contourcarpet\",\"colorbar\":{\"outlinewidth\":0,\"ticks\":\"\"}}],\"contour\":[{\"type\":\"contour\",\"colorbar\":{\"outlinewidth\":0,\"ticks\":\"\"},\"colorscale\":[[0.0,\"#0d0887\"],[0.1111111111111111,\"#46039f\"],[0.2222222222222222,\"#7201a8\"],[0.3333333333333333,\"#9c179e\"],[0.4444444444444444,\"#bd3786\"],[0.5555555555555556,\"#d8576b\"],[0.6666666666666666,\"#ed7953\"],[0.7777777777777778,\"#fb9f3a\"],[0.8888888888888888,\"#fdca26\"],[1.0,\"#f0f921\"]]}],\"surface\":[{\"type\":\"surface\",\"colorbar\":{\"outlinewidth\":0,\"ticks\":\"\"},\"colorscale\":[[0.0,\"#0d0887\"],[0.1111111111111111,\"#46039f\"],[0.2222222222222222,\"#7201a8\"],[0.3333333333333333,\"#9c179e\"],[0.4444444444444444,\"#bd3786\"],[0.5555555555555556,\"#d8576b\"],[0.6666666666666666,\"#ed7953\"],[0.7777777777777778,\"#fb9f3a\"],[0.8888888888888888,\"#fdca26\"],[1.0,\"#f0f921\"]]}],\"mesh3d\":[{\"type\":\"mesh3d\",\"colorbar\":{\"outlinewidth\":0,\"ticks\":\"\"}}],\"scatter\":[{\"fillpattern\":{\"fillmode\":\"overlay\",\"size\":10,\"solidity\":0.2},\"type\":\"scatter\"}],\"parcoords\":[{\"type\":\"parcoords\",\"line\":{\"colorbar\":{\"outlinewidth\":0,\"ticks\":\"\"}}}],\"scatterpolargl\":[{\"type\":\"scatterpolargl\",\"marker\":{\"colorbar\":{\"outlinewidth\":0,\"ticks\":\"\"}}}],\"bar\":[{\"error_x\":{\"color\":\"#2a3f5f\"},\"error_y\":{\"color\":\"#2a3f5f\"},\"marker\":{\"line\":{\"color\":\"#E5ECF6\",\"width\":0.5},\"pattern\":{\"fillmode\":\"overlay\",\"size\":10,\"solidity\":0.2}},\"type\":\"bar\"}],\"scattergeo\":[{\"type\":\"scattergeo\",\"marker\":{\"colorbar\":{\"outlinewidth\":0,\"ticks\":\"\"}}}],\"scatterpolar\":[{\"type\":\"scatterpolar\",\"marker\":{\"colorbar\":{\"outlinewidth\":0,\"ticks\":\"\"}}}],\"histogram\":[{\"marker\":{\"pattern\":{\"fillmode\":\"overlay\",\"size\":10,\"solidity\":0.2}},\"type\":\"histogram\"}],\"scattergl\":[{\"type\":\"scattergl\",\"marker\":{\"colorbar\":{\"outlinewidth\":0,\"ticks\":\"\"}}}],\"scatter3d\":[{\"type\":\"scatter3d\",\"line\":{\"colorbar\":{\"outlinewidth\":0,\"ticks\":\"\"}},\"marker\":{\"colorbar\":{\"outlinewidth\":0,\"ticks\":\"\"}}}],\"scattermapbox\":[{\"type\":\"scattermapbox\",\"marker\":{\"colorbar\":{\"outlinewidth\":0,\"ticks\":\"\"}}}],\"scatterternary\":[{\"type\":\"scatterternary\",\"marker\":{\"colorbar\":{\"outlinewidth\":0,\"ticks\":\"\"}}}],\"scattercarpet\":[{\"type\":\"scattercarpet\",\"marker\":{\"colorbar\":{\"outlinewidth\":0,\"ticks\":\"\"}}}],\"carpet\":[{\"aaxis\":{\"endlinecolor\":\"#2a3f5f\",\"gridcolor\":\"white\",\"linecolor\":\"white\",\"minorgridcolor\":\"white\",\"startlinecolor\":\"#2a3f5f\"},\"baxis\":{\"endlinecolor\":\"#2a3f5f\",\"gridcolor\":\"white\",\"linecolor\":\"white\",\"minorgridcolor\":\"white\",\"startlinecolor\":\"#2a3f5f\"},\"type\":\"carpet\"}],\"table\":[{\"cells\":{\"fill\":{\"color\":\"#EBF0F8\"},\"line\":{\"color\":\"white\"}},\"header\":{\"fill\":{\"color\":\"#C8D4E3\"},\"line\":{\"color\":\"white\"}},\"type\":\"table\"}],\"barpolar\":[{\"marker\":{\"line\":{\"color\":\"#E5ECF6\",\"width\":0.5},\"pattern\":{\"fillmode\":\"overlay\",\"size\":10,\"solidity\":0.2}},\"type\":\"barpolar\"}],\"pie\":[{\"automargin\":true,\"type\":\"pie\"}]},\"layout\":{\"autotypenumbers\":\"strict\",\"colorway\":[\"#636efa\",\"#EF553B\",\"#00cc96\",\"#ab63fa\",\"#FFA15A\",\"#19d3f3\",\"#FF6692\",\"#B6E880\",\"#FF97FF\",\"#FECB52\"],\"font\":{\"color\":\"#2a3f5f\"},\"hovermode\":\"closest\",\"hoverlabel\":{\"align\":\"left\"},\"paper_bgcolor\":\"white\",\"plot_bgcolor\":\"#E5ECF6\",\"polar\":{\"bgcolor\":\"#E5ECF6\",\"angularaxis\":{\"gridcolor\":\"white\",\"linecolor\":\"white\",\"ticks\":\"\"},\"radialaxis\":{\"gridcolor\":\"white\",\"linecolor\":\"white\",\"ticks\":\"\"}},\"ternary\":{\"bgcolor\":\"#E5ECF6\",\"aaxis\":{\"gridcolor\":\"white\",\"linecolor\":\"white\",\"ticks\":\"\"},\"baxis\":{\"gridcolor\":\"white\",\"linecolor\":\"white\",\"ticks\":\"\"},\"caxis\":{\"gridcolor\":\"white\",\"linecolor\":\"white\",\"ticks\":\"\"}},\"coloraxis\":{\"colorbar\":{\"outlinewidth\":0,\"ticks\":\"\"}},\"colorscale\":{\"sequential\":[[0.0,\"#0d0887\"],[0.1111111111111111,\"#46039f\"],[0.2222222222222222,\"#7201a8\"],[0.3333333333333333,\"#9c179e\"],[0.4444444444444444,\"#bd3786\"],[0.5555555555555556,\"#d8576b\"],[0.6666666666666666,\"#ed7953\"],[0.7777777777777778,\"#fb9f3a\"],[0.8888888888888888,\"#fdca26\"],[1.0,\"#f0f921\"]],\"sequentialminus\":[[0.0,\"#0d0887\"],[0.1111111111111111,\"#46039f\"],[0.2222222222222222,\"#7201a8\"],[0.3333333333333333,\"#9c179e\"],[0.4444444444444444,\"#bd3786\"],[0.5555555555555556,\"#d8576b\"],[0.6666666666666666,\"#ed7953\"],[0.7777777777777778,\"#fb9f3a\"],[0.8888888888888888,\"#fdca26\"],[1.0,\"#f0f921\"]],\"diverging\":[[0,\"#8e0152\"],[0.1,\"#c51b7d\"],[0.2,\"#de77ae\"],[0.3,\"#f1b6da\"],[0.4,\"#fde0ef\"],[0.5,\"#f7f7f7\"],[0.6,\"#e6f5d0\"],[0.7,\"#b8e186\"],[0.8,\"#7fbc41\"],[0.9,\"#4d9221\"],[1,\"#276419\"]]},\"xaxis\":{\"gridcolor\":\"white\",\"linecolor\":\"white\",\"ticks\":\"\",\"title\":{\"standoff\":15},\"zerolinecolor\":\"white\",\"automargin\":true,\"zerolinewidth\":2},\"yaxis\":{\"gridcolor\":\"white\",\"linecolor\":\"white\",\"ticks\":\"\",\"title\":{\"standoff\":15},\"zerolinecolor\":\"white\",\"automargin\":true,\"zerolinewidth\":2},\"scene\":{\"xaxis\":{\"backgroundcolor\":\"#E5ECF6\",\"gridcolor\":\"white\",\"linecolor\":\"white\",\"showbackground\":true,\"ticks\":\"\",\"zerolinecolor\":\"white\",\"gridwidth\":2},\"yaxis\":{\"backgroundcolor\":\"#E5ECF6\",\"gridcolor\":\"white\",\"linecolor\":\"white\",\"showbackground\":true,\"ticks\":\"\",\"zerolinecolor\":\"white\",\"gridwidth\":2},\"zaxis\":{\"backgroundcolor\":\"#E5ECF6\",\"gridcolor\":\"white\",\"linecolor\":\"white\",\"showbackground\":true,\"ticks\":\"\",\"zerolinecolor\":\"white\",\"gridwidth\":2}},\"shapedefaults\":{\"line\":{\"color\":\"#2a3f5f\"}},\"annotationdefaults\":{\"arrowcolor\":\"#2a3f5f\",\"arrowhead\":0,\"arrowwidth\":1},\"geo\":{\"bgcolor\":\"white\",\"landcolor\":\"#E5ECF6\",\"subunitcolor\":\"white\",\"showland\":true,\"showlakes\":true,\"lakecolor\":\"white\"},\"title\":{\"x\":0.05},\"mapbox\":{\"style\":\"light\"}}},\"updatemenus\":[{\"buttons\":[{\"args\":[{\"visible\":[true,true,true,true,true,true,true,true,true,true,true,true,true,true,true,true,true]},{\"title\":\"The Way of the World\"}],\"label\":\"All\",\"method\":\"update\"},{\"args\":[{\"visible\":[false,false,true,false,false,false,false,false,true,false,false,false,true,false,true,true,true]},{\"title\":\"The Way of the World (Men)\"}],\"label\":\"Men\",\"method\":\"update\"},{\"args\":[{\"visible\":[false,false,false,true,true,false,true,true,false,true,true,false,false,false,false,false,false]},{\"title\":\"The Way of the World (Women)\"}],\"label\":\"Women\",\"method\":\"update\"},{\"args\":[{\"visible\":\"legendonly\"},{\"title\":\"The Way of the World (Custom)\"}],\"label\":\"Custom\",\"method\":\"update\"}],\"direction\":\"down\",\"showactive\":true,\"x\":0.01,\"xanchor\":\"left\",\"y\":1.1,\"yanchor\":\"top\"}],\"title\":{\"text\":\"The Way of the World\"},\"xaxis\":{\"title\":{\"text\":\"\"}},\"yaxis\":{\"title\":{\"text\":\"Average Speech Length\"}}},                        {\"responsive\": true}                    ).then(function(){\n",
       "                            \n",
       "var gd = document.getElementById('2d3de80c-b93b-4930-b6b8-9746e132beba');\n",
       "var x = new MutationObserver(function (mutations, observer) {{\n",
       "        var display = window.getComputedStyle(gd).display;\n",
       "        if (!display || display === 'none') {{\n",
       "            console.log([gd, 'removed!']);\n",
       "            Plotly.purge(gd);\n",
       "            observer.disconnect();\n",
       "        }}\n",
       "}});\n",
       "\n",
       "// Listen for the removal of the full notebook cells\n",
       "var notebookContainer = gd.closest('#notebook-container');\n",
       "if (notebookContainer) {{\n",
       "    x.observe(notebookContainer, {childList: true});\n",
       "}}\n",
       "\n",
       "// Listen for the clearing of the current output cell\n",
       "var outputEl = gd.closest('.output');\n",
       "if (outputEl) {{\n",
       "    x.observe(outputEl, {childList: true});\n",
       "}}\n",
       "\n",
       "                        })                };                });            </script>        </div>"
      ]
     },
     "metadata": {},
     "output_type": "display_data"
    }
   ],
   "source": [
    "create_line_graph(tob_avg_len, tob_men, tob_women, title=\"The Old Bachelor\", filename=\"tob_avg_len\")\n",
    "create_line_graph(tdd_avg_len, tdd_men, tdd_women, title=\"The Double Dealer\", filename=\"tdd_avg_len\")\n",
    "create_line_graph(lfl_avg_len, lfl_men, lfl_women, title=\"Love for Love\", filename=\"lfl_avg_len\")\n",
    "create_line_graph(twotw_avg_len, twotw_men, twotw_women, title=\"The Way of the World\", filename=\"twotw_avg_len\")"
   ]
  },
  {
   "cell_type": "code",
   "execution_count": null,
   "id": "bf5acde6-652f-47c5-a6f5-f7141433ff64",
   "metadata": {},
   "outputs": [],
   "source": []
  }
 ],
 "metadata": {
  "kernelspec": {
   "display_name": "nltkenv",
   "language": "python",
   "name": "nltkenv"
  },
  "language_info": {
   "codemirror_mode": {
    "name": "ipython",
    "version": 3
   },
   "file_extension": ".py",
   "mimetype": "text/x-python",
   "name": "python",
   "nbconvert_exporter": "python",
   "pygments_lexer": "ipython3",
   "version": "3.12.2"
  }
 },
 "nbformat": 4,
 "nbformat_minor": 5
}
